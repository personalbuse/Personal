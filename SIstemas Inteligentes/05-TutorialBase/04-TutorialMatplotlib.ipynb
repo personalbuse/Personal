{
 "cells": [
  {
   "cell_type": "markdown",
   "metadata": {},
   "source": [
    "# Introducción a Matplotlib"
   ]
  },
  {
   "cell_type": "markdown",
   "metadata": {},
   "source": [
    "\n",
    "<img src='figuras/matplotlib_logo.png' width=\"50%\"/>\n",
    "\n",
    "[Matplotlib](https://matplotlib.org/index.html) es una librería de gráficos. En esta sección, se hace una breve introducción al módulo `matplotlib.pyplot` el cual proporciona un sistema de gráficos similar al de MATLAB."
   ]
  },
  {
   "cell_type": "markdown",
   "metadata": {},
   "source": [
    "### Anatomía de un gráfico en matplotlib\n",
    "\n",
    "La figura es el contenedor de nivel superior en esta jerarquía. Es la ventana en la que se grafica todo. Puede tener múltiples figuras independientes y las figuras pueden contener múltiples Ejes(Axes/Subplot).\n",
    "\n",
    "<img src='figuras/AnatomiaFigura.png' width= 50%/>\n",
    "\n",
    "La mayoría de los gráficos se realizan sobre los Ejes(Axes). Los Ejes son efectivamente el área sobre la que graficamos los datos y cualquier marca / etiqueta / etc. asociados con ellos. Por lo general, configuramos los Ejes(Axes) con una llamada a subplot (que coloca los ejes en una cuadrícula regular), por lo que en la mayoría de los casos, Ejes(Axes) y subplot son sinónimos.\n",
    "\n",
    "Cada Axes tiene un XAxis y un YAxis. Estos contienen las marcas, ubicaciones de las marcas, etiquetas, etc."
   ]
  },
  {
   "cell_type": "markdown",
   "metadata": {},
   "source": [
    "### Importar matplotlib"
   ]
  },
  {
   "cell_type": "code",
   "execution_count": null,
   "metadata": {
    "tags": []
   },
   "outputs": [],
   "source": [
    "import matplotlib.pyplot as plt\n",
    "import numpy as np"
   ]
  },
  {
   "cell_type": "markdown",
   "metadata": {},
   "source": [
    "Por defecto las gráficas se mostraran en una ventana externa al notebook"
   ]
  },
  {
   "cell_type": "code",
   "execution_count": null,
   "metadata": {
    "tags": []
   },
   "outputs": [],
   "source": [
    "%matplotlib inline\n",
    "x = np.linspace(0, 2*np.pi, 50)\n",
    "y1 = np.sin(x)\n",
    "y2 = np.sin(2*x)\n",
    "plt.figure() # Crear una figura\n",
    "plt.plot(x, y1)\n",
    "plt.scatter(x, y2)\n",
    "plt.legend(['sin(x)', 'sin(2x)']);\n",
    "plt.show()"
   ]
  },
  {
   "cell_type": "code",
   "execution_count": null,
   "metadata": {
    "tags": []
   },
   "outputs": [],
   "source": [
    "plt.close()"
   ]
  },
  {
   "cell_type": "markdown",
   "metadata": {},
   "source": [
    "Sin embargo, mientras estamos en el tema, puede controlar el tamaño de la figura a través del argumento de tamaño `figsize`, que espera una tupla de (ancho, alto) en pulgadas.\n",
    "Una función de utilidad realmente útil es `figaspect()`"
   ]
  },
  {
   "cell_type": "code",
   "execution_count": null,
   "metadata": {
    "tags": []
   },
   "outputs": [],
   "source": [
    "%matplotlib inline\n",
    "# El doble de ancho que de alto:\n",
    "fig = plt.figure(figsize=plt.figaspect(0.5))\n"
   ]
  },
  {
   "cell_type": "code",
   "execution_count": null,
   "metadata": {
    "tags": []
   },
   "outputs": [],
   "source": [
    "plt.show()"
   ]
  },
  {
   "cell_type": "markdown",
   "metadata": {},
   "source": [
    "### Axes (Ejes)\n",
    "\n",
    "Todo el graficado se hace con respecto a un Axes. Un Axes se compone de objetos Axis (Eje) y muchas otras cosas. Un objeto Axes debe pertenecer a una figura (y solo una figura). La mayoría de los comandos que emitirá serán con respecto a este objeto Axes.\n",
    "\n",
    "Normalmente, configurará una figura y luego agregará un eje a ella.\n",
    "\n",
    "Puede usar `fig.add_axes`, pero en la mayoría de los casos, encontrará que agregar un `subplot` se ajustará perfectamente a sus necesidades. (De nuevo, un `subplot` es solo un eje en un sistema de cuadrícula)."
   ]
  },
  {
   "cell_type": "code",
   "execution_count": null,
   "metadata": {
    "tags": []
   },
   "outputs": [],
   "source": [
    "fig = plt.figure()\n",
    "ax = fig.add_subplot(111) # Explicaremos el \"111\" más adelante. Basicamente esta definiendo 1 fila y 1 columna.\n",
    "ax.set(xlim=[0.5, 4.5], ylim=[-2, 8], title='Un Ejemplo de Axes',\n",
    "       ylabel='Y-Axis', xlabel='X-Axis')\n",
    "plt.show()\n"
   ]
  },
  {
   "cell_type": "markdown",
   "metadata": {},
   "source": [
    "### Graficar\n",
    "\n",
    "La mayoría de los gráficos ocurren en un Ejes. Por lo tanto, si graficas algo en un eje, entonces usarás uno de sus métodos.\n",
    "\n",
    "Hablaremos sobre los diferentes métodos de graficado en mayor profundidad en la siguiente sección. Por ahora, centrémonos en dos métodos: `plot` (gráficos de línea) y `scatter` (gráficos de puntos).\n",
    "\n",
    "Ejemplo:"
   ]
  },
  {
   "cell_type": "code",
   "execution_count": null,
   "metadata": {
    "tags": []
   },
   "outputs": [],
   "source": [
    "fig = plt.figure()\n",
    "ax = fig.add_subplot(1,1,1)\n",
    "ax.plot([1, 2, 3, 4], [10, 20, 25, 30], color='blue', linewidth=3)\n",
    "ax.scatter([0.3, 3.8, 1.2, 2.5], [11, 25, 9, 26], color='green', marker='^')\n",
    "ax.set_xlim(0.5, 4.5)\n",
    "ax.set_ylim(5, 35)\n",
    "plt.show();"
   ]
  },
  {
   "cell_type": "markdown",
   "metadata": {},
   "source": [
    "### Graficado explicito (Métodos de Axes) vs. implicito (pyplot)\n",
    "\n",
    "Curiosamente, casi todos los métodos de un objeto Axes existen como una función en el módulo pyplot (y viceversa). Por ejemplo, al llamar a `plt.xlim (1, 10)`, pyplot llama a `ax.set_xlim (1, 10)` en el Axes \"actual\". Aquí hay una versión equivalente del ejemplo anterior usando solo pyplot."
   ]
  },
  {
   "cell_type": "code",
   "execution_count": null,
   "metadata": {
    "tags": []
   },
   "outputs": [],
   "source": [
    "plt.figure()\n",
    "plt.plot([1, 2, 3, 4], [10, 20, 25, 30], color='lightblue', linewidth=3)\n",
    "plt.scatter([0.3, 3.8, 1.2, 2.5], [11, 25, 9, 26], color='darkgreen', marker='^')\n",
    "plt.xlim(0.5, 4.5)\n",
    "plt.show()"
   ]
  },
  {
   "cell_type": "markdown",
   "metadata": {},
   "source": [
    "\n",
    "Si bien para los gráficos simples, con código cortos el enfoque implícito pyplot es mas conciso, al hacer gráficos más complicados o trabajar con códigos más grandes, es preferible referirse al Axes o la figura explícitamente.\n",
    "\n",
    "La ventaja de mantener con claridad con que Axes estamos trabajamos se hará más obvia cuando comencemos a tener múltiples Axes en una figura.\n",
    "\n",
    "Además, segun el Zen de Python:\n",
    "\n",
    "\"*Lo explicito es mejor que lo implicito*\""
   ]
  },
  {
   "cell_type": "markdown",
   "metadata": {},
   "source": [
    "### Multiples Axes\n",
    "\n",
    "Hemos mencionado anteriormente que una figura puede tener más de un Axes en ella. Si desea que sus Axes estén en un sistema de cuadrícula regular, entonces es más fácil usar `plt.subplots(...)` para crear una figura y agregarle los Axes automáticamente.\n",
    "\n",
    "La llamada a `plt.subplots(nrows=2, ncols=2)` crea una nueva figura y le agrega 4 subplots. El objeto `axes` que se devolvió es una matriz de objetos numpy de 2D. Cada elemento en la matriz es una de los subplots.\n",
    "\n",
    "Por lo tanto, cuando queremos trabajar con uno de estos `axes`, podemos indexar el conjunto de `axes` y usar los métodos de ese elemento.\n",
    "\n",
    "Por ejemplo:"
   ]
  },
  {
   "cell_type": "code",
   "execution_count": null,
   "metadata": {
    "tags": []
   },
   "outputs": [],
   "source": [
    "fig, axes = plt.subplots(nrows=2, ncols=2)\n",
    "axes[0,0].set(title='Superior Izquierda')\n",
    "axes[0,1].set(title='Superior Derecha')\n",
    "axes[1,0].set(title='Inferior Izquierda')\n",
    "axes[1,1].set(title='Inferior Derecha')\n",
    "\n",
    "# Para iterar sobre todos los elementos de un arreglo multidimensional, usar el atributo `flat`\n",
    "#for ax in axes.flat:\n",
    "    # Remove todas las marcas del eje x y del eje y\n",
    "#    ax.set(xticks=[], yticks=[])\n",
    "    \n",
    "plt.show()"
   ]
  },
  {
   "cell_type": "code",
   "execution_count": null,
   "metadata": {
    "tags": []
   },
   "outputs": [],
   "source": []
  },
  {
   "cell_type": "markdown",
   "metadata": {},
   "source": [
    "### Gráficos de línea"
   ]
  },
  {
   "cell_type": "markdown",
   "metadata": {},
   "source": [
    "La función mas importante de `matplotlib` es `plot`, la cual permite realizar gráficos de linea de datos en 2D.\n",
    "\n",
    "Por ejemplo:"
   ]
  },
  {
   "cell_type": "code",
   "execution_count": null,
   "metadata": {
    "tags": []
   },
   "outputs": [],
   "source": [
    "# Calcular las coordenadas x e y para puntos en una curva senoidal\n",
    "x = np.arange(0, 3 * np.pi, 0.1)\n",
    "y = np.sin(x)\n",
    "# Crear una figura\n",
    "plt.figure()\n",
    "# Graficar los puntos usando matplotlib\n",
    "plt.plot(x, y);\n",
    "plt.show()"
   ]
  },
  {
   "cell_type": "markdown",
   "metadata": {},
   "source": [
    "Con solo un poco de trabajo extra, podemos trazar varias líneas a la vez y agregar etiquetas de título, leyenda y a los ejes:"
   ]
  },
  {
   "cell_type": "code",
   "execution_count": null,
   "metadata": {
    "tags": []
   },
   "outputs": [],
   "source": [
    "y_sin = np.sin(x)\n",
    "y_cos = np.cos(x)\n",
    "\n",
    "plt.figure()\n",
    "\n",
    "# Graficar los puntos usando matplotlib\n",
    "plt.scatter(x, y_sin, color=\"blue\")\n",
    "plt.scatter(x, y_cos, color=\"red\")\n",
    "plt.xlabel('etiqueta eje x')\n",
    "plt.ylabel('etiqueta eje y')\n",
    "plt.title('Seno y Coseno')\n",
    "plt.legend(['Seno', 'Coseno'])\n",
    "plt.show()"
   ]
  },
  {
   "cell_type": "markdown",
   "metadata": {},
   "source": [
    "### Gráficos de puntos\n",
    "\n",
    "La función `scatter` de matplotlib nos permite realizar gráficos de puntos de datos en 2D"
   ]
  },
  {
   "cell_type": "code",
   "execution_count": null,
   "metadata": {
    "tags": []
   },
   "outputs": [],
   "source": [
    "plt.figure()\n",
    "# Graficar puntos\n",
    "x = np.random.normal(size=500)\n",
    "y = np.random.normal(size=500)\n",
    "plt.scatter(x, y);\n",
    "plt.show()"
   ]
  },
  {
   "cell_type": "code",
   "execution_count": null,
   "metadata": {
    "tags": []
   },
   "outputs": [],
   "source": [
    "N = 50 # número de puntos\n",
    "x = np.linspace(0, 10, N)\n",
    "e = np.random.rand(N)*5.0 # ruido\n",
    "y1 = x + e\n",
    "\n",
    "areas = np.random.rand(N)*300\n",
    "\n",
    "colores = np.random.rand(N)\n",
    "\n",
    "plt.scatter(x, y1, s=areas, c=colores)\n",
    "\n",
    "plt.colorbar()\n",
    "plt.title(\"Puntos Aleatorios\")\n",
    "plt.show()"
   ]
  },
  {
   "cell_type": "markdown",
   "metadata": {},
   "source": [
    "### Colores\n",
    "\n",
    "Esta es, quizás, la parte más importante del vocabulario de Matplotlib. Dado que Matplotlib es una biblioteca de graficado, los colores están asociados con todo lo que se grafica en sus figuras. Matplotlib admite un [lenguaje muy sólido](http://matplotlib.org/api/colors_api.html#module-matplotlib.colors) para especificar colores que deberían ser familiares para una gran variedad de usuarios.\n",
    "\n",
    "#### Nombres de colores\n",
    "Primero, los colores se pueden dar como cadenas. Para colores muy básicos, incluso se puede usar una sola letra:\n",
    "\n",
    "- b: azul\n",
    "- g: verde\n",
    "- r: rojo\n",
    "- c: cian\n",
    "- m: magenta\n",
    "- y: amarillo\n",
    "- k: negro\n",
    "- w: blanco\n",
    "\n",
    "Otros nombres de colores que se permiten son los nombres de colores HTML / CSS como \"burlywood\" y \"chartreuse\". Vea la [lista completa](https://www.w3schools.com/colors/colors_names.asp) de los 147 nombres de colores.\n",
    "\n",
    "#### Valores hexadecimales\n",
    "Los colores también se pueden especificar suministrando una cadena hexadecimal de HTML/CSS, como `'#0000FF'` para azul.\n",
    "\n",
    "#### 256 tonos de gris\n",
    "Se puede dar un nivel de gris en lugar de un color al pasar una representación de cadena de un número entre 0 y 1, inclusive. `'0.0'` es negro, mientras que` '1.0'` es blanco. `'0.75'` sería un tono claro de gris.\n",
    "\n",
    "Ejemplo:"
   ]
  },
  {
   "cell_type": "code",
   "execution_count": null,
   "metadata": {
    "tags": []
   },
   "outputs": [],
   "source": [
    "plt.figure()\n",
    "\n",
    "t = np.arange(0.0, 5.0, 0.2)\n",
    "plt.plot(t, t, 'r', t, t**2, 'cyan', t, t**3, '0.7')\n",
    "plt.show()\n"
   ]
  },
  {
   "cell_type": "markdown",
   "metadata": {},
   "source": [
    "En caso de no especificar los colores, matplotlib utiliza unos colores por defecto:"
   ]
  },
  {
   "cell_type": "code",
   "execution_count": null,
   "metadata": {
    "tags": []
   },
   "outputs": [],
   "source": [
    "plt.figure()\n",
    "t = np.arange(0.0, 5.0, 0.2)\n",
    "plt.plot(t, t, t, t**2, t, t**3)\n",
    "plt.show()"
   ]
  },
  {
   "cell_type": "markdown",
   "metadata": {},
   "source": [
    "### Marcadores\n",
    "[Marcadores](http://matplotlib.org/api/markers_api.html) se usan regularmente en gráficos [`plot()`](http://matplotlib.org/api/pyplot_api.html#matplotlib.pyplot.plot) y [`scatter()`](http://matplotlib.org/api/pyplot_api.html#matplotlib.pyplot.scatter), pero también aparecen en otros lugares. Hay un amplio conjunto de marcadores disponibles, e incluso se pueden especificar marcadores personalizados.\n",
    "\n",
    "marcador   |  descripción  ||marcador  |  descripción  ||marcador  |  descripción  ||marcador  |  descripción  \n",
    ":----------|:--------------||:---------|:--------------||:---------|:--------------||:---------|:--------------\n",
    "\".\"        |  punto        ||\"+\"       |  suma         ||\",\"       |  pixel        ||\"x\"       |  cruz\n",
    "\"o\"        |  círculo      ||\"D\"       |  diamante     ||\"d\"       |  diamante_fino||          |\n",
    "\"8\"        |  octágono     ||\"s\"       |  cuadrado     ||\"p\"       |  pentágono    ||\"\\*\"      |  estrella\n",
    "\"&#124;\"   |  barra vertical||\"\\_\"     |  barra horizontal||\"h\"    |  hexágono1    ||\"H\"       |  hexágono2\n",
    "0          |  tick izquierda ||4       |  caret izquierda ||\"<\"    | triángulo izquierda ||\"3\" |  tri izquierda\n",
    "1          |  tick derecha ||5         |  caret derecha   ||\">\"    | triángulo derecha||\"4\"    |  tri derecha\n",
    "2          |  tick arriba  ||6         |  caret arriba    ||\"^\"    | triángulo arriba   ||\"2\"  |  tri arriba\n",
    "3          |  tick abajo   ||7         |  caret abajo     ||\"v\"    | triángulo abajo ||\"1\"     |  tri abajo\n",
    "\"None\"     |  nada         ||`None`    |  valor por defecto||\" \"   |  nada         ||\"\"        |  nada"
   ]
  },
  {
   "cell_type": "code",
   "execution_count": null,
   "metadata": {
    "tags": []
   },
   "outputs": [],
   "source": [
    "xs, ys = np.mgrid[:4, 9:0:-1]\n",
    "marcadores = [\".\", \"+\", \",\", \"x\", \"o\", \"D\", \"d\", \"\", \"8\", \"s\", \"p\", \"*\", \"|\", \"_\", \"h\", \"H\", 0, 4, \"<\", \"3\",\n",
    "           1, 5, \">\", \"4\", 2, 6, \"^\", \"2\", 3, 7, \"v\", \"1\", \"None\", None, \" \", \"\"]\n",
    "descripcion = [\"punto\", \"suma\", \"pixel\", \"cruz\", \"círculo\", \"diamante\", \"diamante fino\", \"\",\n",
    "             \"octágono\", \"cuadrado\", \"pentágono\", \"estrella\", \"barra vertical\", \"barra horizontal\", \"hexágono 1\", \"hexágono 2\",\n",
    "             \"tick izquierda\", \"caret izquierda\", \"triángulo izquierda\", \"tri izquierda\", \"tick derecha\", \"caret derecha\", \"triángulo derecha\", \"tri derecha\",\n",
    "             \"tick arriba\", \"caret arriba\", \"triángulo arriba\", \"tri arriba\", \"tick abajo\", \"caret abajo\", \"triángulo abajo\", \"tri abajo\",\n",
    "             \"Nada\", \"valor por defecto\", \"Nada\", \"Nada\"]\n",
    "fig, ax = plt.subplots(1, 1, figsize=(9.5, 4))\n",
    "for x, y, m, d in zip(xs.T.flat, ys.T.flat, marcadores, descripcion):\n",
    "    ax.scatter(x, y, marker=m, s=90)\n",
    "    ax.text(x + 0.1, y - 0.1, d, size=12)\n",
    "ax.set_axis_off()\n",
    "plt.show()"
   ]
  },
  {
   "cell_type": "markdown",
   "metadata": {},
   "source": [
    "### Estilo de líneas\n",
    "\n",
    "Los estilos de línea son tan comunes como los colores. Hay algunos estilos de línea predefinidos disponibles para su uso. Tenga en cuenta que hay algunas técnicas avanzadas para especificar algunos estilos de línea personalizados. [Aquí](http://matplotlib.org/1.3.0/examples/lines_bars_and_markers/line_demo_dash_control.html) es un ejemplo de un patrón de guión personalizado.\n",
    "\n",
    "estilo línea        | descripción\n",
    "------------------- | ------------------------------\n",
    "'-'                 | sólida\n",
    "'-'                 | discontinua\n",
    "'-.'                | guión punto\n",
    "':'                 | punteada\n",
    "'Ninguno'           | no dibujar nada\n",
    "''                  | no dibujar nada\n",
    "''                  | no dibujar nada\n",
    "\n",
    "Además, no mezcle \".-\" (línea con marcadores de puntos) y \"-.\" (línea de puntos y rayas) cuando se usa la función `` plot``!"
   ]
  },
  {
   "cell_type": "markdown",
   "metadata": {},
   "source": [
    "#### Ejemplo 1: Hacer un gráfico con rayas rojas, cuadrados azules y triángulos verdes"
   ]
  },
  {
   "cell_type": "code",
   "execution_count": null,
   "metadata": {
    "tags": []
   },
   "outputs": [],
   "source": [
    "plt.figure()\n",
    "\n",
    "t = np.arange(0., 5., 0.2)\n",
    "# rayas rojas, cuadrados azules y triángulos verdes\n",
    "plt.plot(t, t, 'r--', t, t**2, 'bs', t, t**3, 'g^')\n",
    "plt.show()"
   ]
  },
  {
   "cell_type": "markdown",
   "metadata": {},
   "source": [
    "#### Ejemplo 2: Hacer un gráfico que tenga una línea roja punteada, con marcadores de diamantes amarillos que tengan un borde azul"
   ]
  },
  {
   "cell_type": "code",
   "execution_count": null,
   "metadata": {
    "tags": []
   },
   "outputs": [],
   "source": [
    "plt.figure()\n",
    "\n",
    "t = np.arange(0.0, 5.0, 0.1)\n",
    "a = np.exp(-t) * np.cos(2*np.pi*t)\n",
    "plt.plot(t, a, 'r:D', markerfacecolor='y', markeredgecolor='b')\n",
    "plt.show()\n"
   ]
  },
  {
   "cell_type": "markdown",
   "metadata": {},
   "source": [
    "### Gráficos de barras\n",
    "\n",
    "Los gráficos de barras son uno de los tipos de gráficos más comunes. El método `ax.bar(...)` de Matplotlib también puede trazar rectángulos generales, pero el valor predeterminado está optimizado para una secuencia simple de valores x, y, donde los rectángulos tienen un ancho constante. También hay `ax.barh(...)` (para horizontal), que hace una suposición de altura constante en lugar de una suposición de ancho constante."
   ]
  },
  {
   "cell_type": "code",
   "execution_count": null,
   "metadata": {
    "tags": []
   },
   "outputs": [],
   "source": [
    "np.random.seed(1)\n",
    "x = np.arange(5)\n",
    "y = np.random.randn(5)\n",
    "\n",
    "fig, axes = plt.subplots(ncols=2, figsize=plt.figaspect(1./2))\n",
    "\n",
    "barras_verticales = axes[0].bar(x, y, color='lightblue', align='center')\n",
    "barras_horizontales = axes[1].barh(x, y, color='lightblue', align='center')\n",
    "\n",
    "# las funciones axhline & axvline grafican una línea en todo el camino a través de los ejes\n",
    "axes[0].axhline(0, color='gray', linewidth=2)\n",
    "axes[1].axvline(0, color='gray', linewidth=2)\n",
    "\n",
    "plt.show()"
   ]
  },
  {
   "cell_type": "markdown",
   "metadata": {},
   "source": [
    "Podemos fijar el color de las barras de acuerdo a alguna condición. Por ejemplo si la barra es negativa hacer el color salmon"
   ]
  },
  {
   "cell_type": "code",
   "execution_count": null,
   "metadata": {
    "tags": []
   },
   "outputs": [],
   "source": [
    "fig, ax = plt.subplots()\n",
    "barras_verticales = ax.bar(x, y, color='lightblue', align='center')\n",
    "\n",
    "# incluyendo condicionales\n",
    "for barra, altura in zip(barras_verticales, y):\n",
    "    if altura < 0:\n",
    "        barra.set(color='salmon')\n",
    "\n",
    "plt.show()"
   ]
  },
  {
   "cell_type": "markdown",
   "metadata": {},
   "source": [
    "Ejemplo de gráfico de barras horizontales:"
   ]
  },
  {
   "cell_type": "code",
   "execution_count": null,
   "metadata": {
    "tags": []
   },
   "outputs": [],
   "source": [
    "plt.figure()\n",
    "paises = (\"Alemania\", \"España\", \"Francia\", \"Portugal\")\n",
    "posicion_y = np.arange(len(paises))\n",
    "unidades = (342, 321, 192, 402)\n",
    "plt.barh(posicion_y, unidades, align = \"center\")\n",
    "plt.yticks(posicion_y, paises)\n",
    "plt.xlabel('Unidades vendidas')\n",
    "plt.title(\"Ventas en Europa\")\n",
    "plt.show()"
   ]
  },
  {
   "cell_type": "markdown",
   "metadata": {},
   "source": [
    "Gráfico con miltiples barras verticales:"
   ]
  },
  {
   "cell_type": "code",
   "execution_count": null,
   "metadata": {
    "tags": []
   },
   "outputs": [],
   "source": [
    "plt.figure()\n",
    "\n",
    "datos = [[1, 2, 3, 4], [3, 5, 3, 5], [8, 6, 4, 2]]\n",
    "X = np.arange(4)\n",
    "plt.bar(X + 0.00, datos[0], color = \"b\", width = 0.25)\n",
    "plt.bar(X + 0.25, datos[1], color = \"g\", width = 0.25)\n",
    "plt.bar(X + 0.50, datos[2], color = \"r\", width = 0.25)\n",
    "plt.xticks(X+0.25, [\"A\",\"B\",\"C\",\"D\"])\n",
    "plt.show()"
   ]
  },
  {
   "cell_type": "markdown",
   "metadata": {},
   "source": [
    "### Histogramas"
   ]
  },
  {
   "cell_type": "code",
   "execution_count": null,
   "metadata": {
    "tags": []
   },
   "outputs": [],
   "source": [
    "plt.figure()\n",
    "\n",
    "x = np.random.randn(10000)  # Definimos un vector de números aleatorios de una distribución normal\n",
    "plt.hist(x, bins = 20)  # Dibuja un histograma dividiendo el vector x en 20 intervalos\n",
    "plt.show()"
   ]
  },
  {
   "cell_type": "markdown",
   "metadata": {},
   "source": [
    "Ejemplo de un histograma del Cociente de Inteligencia:"
   ]
  },
  {
   "cell_type": "markdown",
   "metadata": {},
   "source": [
    "### Gráficos de Torta"
   ]
  },
  {
   "cell_type": "code",
   "execution_count": null,
   "metadata": {
    "tags": []
   },
   "outputs": [],
   "source": [
    "plt.figure()\n",
    "impr = [\"b/n\", \"color\", \"dúplex\", \"A3\"]\n",
    "vol = [25, 31, 46, 10]\n",
    "expl =(0, 0.05, 0.1, 0)\n",
    "plt.pie(vol, explode=expl, labels=impr, autopct='%1.1f%%', shadow=True)\n",
    "plt.title(\"Impresión\", bbox={\"facecolor\":\"0.8\", \"pad\":10})\n",
    "plt.legend(loc='lower right')\n",
    "plt.show()"
   ]
  },
  {
   "cell_type": "markdown",
   "metadata": {},
   "source": [
    "### Gráficos de Área (Apilados)"
   ]
  },
  {
   "cell_type": "code",
   "execution_count": null,
   "metadata": {
    "tags": []
   },
   "outputs": [],
   "source": [
    "plt.figure()\n",
    "\n",
    "dias = [1,2,3,4,5,6,7]\n",
    "\n",
    "dormir =    [7, 8, 6, 11, 7, 8, 9]\n",
    "comer =     [2, 3, 4, 3, 2, 4, 4]\n",
    "trabajar =  [7, 8, 7, 7, 8, 2, 2]\n",
    "jugar =     [8, 5, 7, 3, 7, 10, 9]\n",
    "\n",
    "plt.stackplot(dias, dormir, comer, trabajar, jugar, colors=['m', 'c', 'r', 'b', 'g', 'c', 'y'])\n",
    "\n",
    "plt.show()"
   ]
  },
  {
   "cell_type": "markdown",
   "metadata": {},
   "source": [
    "### Gráficos de Imágenes"
   ]
  },
  {
   "cell_type": "code",
   "execution_count": null,
   "metadata": {
    "tags": []
   },
   "outputs": [],
   "source": [
    "# Crear unos datos\n",
    "e1 = np.random.rand(100)\n",
    "e2 = np.random.rand(100)*2\n",
    "e3 = np.random.rand(100)*10\n",
    "e4 = np.random.rand(100)*100\n",
    "matrix_correlacion = np.corrcoef([e1, e2, e3, e4])\n",
    "print(matrix_correlacion)\n",
    "\n",
    "# Graficar la matriz de correlación como una imagen\n",
    "plt.imshow(matrix_correlacion, interpolation='none', cmap='GnBu')\n",
    "plt.colorbar()\n",
    "var = ['e1', 'e2', 'e3', 'e4']\n",
    "posicion = np.arange(len(var))\n",
    "plt.yticks(posicion, var)\n",
    "plt.xticks(posicion, var)\n",
    "plt.show()\n"
   ]
  },
  {
   "cell_type": "markdown",
   "metadata": {},
   "source": [
    "### Otras Librerías Gráficas"
   ]
  },
  {
   "cell_type": "markdown",
   "metadata": {},
   "source": [
    "- **[Seaborn](https://seaborn.pydata.org/)**: es una biblioteca de visualización de Python basada en matplotlib. Proporciona una interfaz de alto nivel para dibujar gráficos estadísticos atractivos.\n",
    "- **[bokeh](https://bokeh.pydata.org/en/latest/)**: es una biblioteca de visualización interactiva de Python orientada a navegadores web modernos para su presentación\n",
    "- **[plotly](https://plot.ly/python/)**: es una biblioteca de gráficos de Python que hace gráficos interactivos de calidad de publicación en línea"
   ]
  },
  {
   "cell_type": "markdown",
   "metadata": {},
   "source": [
    "### Referencias:\n",
    "\n",
    "- [Ejemplos de gráficos en Matplotlib](https://matplotlib.org/tutorials/introductory/sample_plots.html)\n",
    "- [Tutorial de Matplotlib de SciPy 2017](https://github.com/WeatherGod/AnatomyOfMatplotlib)\n",
    "- [Pyplot Tutorial de Matplotlib](https://matplotlib.org/users/pyplot_tutorial.html)"
   ]
  },
  {
   "cell_type": "code",
   "execution_count": null,
   "metadata": {},
   "outputs": [],
   "source": []
  }
 ],
 "metadata": {
  "kernelspec": {
   "display_name": "Python 3 (ipykernel)",
   "language": "python",
   "name": "python3"
  },
  "language_info": {
   "codemirror_mode": {
    "name": "ipython",
    "version": 3
   },
   "file_extension": ".py",
   "mimetype": "text/x-python",
   "name": "python",
   "nbconvert_exporter": "python",
   "pygments_lexer": "ipython3",
   "version": "3.13.5"
  }
 },
 "nbformat": 4,
 "nbformat_minor": 4
}
