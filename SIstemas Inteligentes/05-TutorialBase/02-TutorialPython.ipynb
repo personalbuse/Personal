{
 "cells": [
  {
   "cell_type": "markdown",
   "metadata": {},
   "source": [
    "#  Un Fugaz Tutorial de Python "
   ]
  },
  {
   "cell_type": "markdown",
   "metadata": {},
   "source": [
    "\n",
    "<img src=\"figuras/python-logo.png\" />"
   ]
  },
  {
   "cell_type": "markdown",
   "metadata": {},
   "source": [
    "## Introducción"
   ]
  },
  {
   "cell_type": "markdown",
   "metadata": {},
   "source": [
    "Python es un lenguaje de programación:\n",
    "\n",
    "* Interpretado e Interactivo\n",
    "* Fácil de aprender, programar y **leer** (menos *bugs*)\n",
    "* De *muy alto nivel*\n",
    "* Multiparadigma\n",
    "* Orientado a objetos\n",
    "* Libre y con licencia permisiva\n",
    "* Eficiente\n",
    "* Versátil y potente! \n",
    "* Con gran documentación\n",
    "* Y una gran comunidad de usuarios"
   ]
  },
  {
   "cell_type": "markdown",
   "metadata": {},
   "source": [
    "## Historia\n",
    "- Inventado en Holanda, principios de los 90 por Guido van Rossum\n",
    "- El nombre viene del programa de televisión [Monty Python Flying Circus](https://es.wikipedia.org/wiki/Monty_Python)\n",
    "- Abierto desde el principio\n",
    "- Considerado un lenguaje de scripting, pero es mucho más\n",
    "- Escalable, orientado a objetos y funcional desde el principio\n",
    "- Utilizado por Google desde el principio"
   ]
  },
  {
   "cell_type": "markdown",
   "metadata": {},
   "source": [
    "## Creador de Python\n",
    "\n",
    "\"Python es un experimento en cuánta libertad los programadores necesitan. \n",
    " Demasiada libertad y nadie puede leer el código de otro; \n",
    " Demasiada poca y la expresividad está en peligro.\"\n",
    "      - Guido van Rossum\n",
    "      \n",
    "<img src=\"figuras/guido.jpg\" />"
   ]
  },
  {
   "cell_type": "markdown",
   "metadata": {},
   "source": [
    "## El zen de Python"
   ]
  },
  {
   "cell_type": "code",
   "execution_count": null,
   "metadata": {
    "tags": []
   },
   "outputs": [],
   "source": [
    "import this"
   ]
  },
  {
   "cell_type": "markdown",
   "metadata": {},
   "source": [
    "El Zen de Python, de Tim Peters\n",
    "\n",
    "- Hermoso es mejor que feo.\n",
    "- Explicito es mejor que implícito.\n",
    "- Simple es mejor que complejo.\n",
    "- Complejo es mejor que complicado.\n",
    "- El plano es mejor que el anidado.\n",
    "- Dispersa es mejor que denso.\n",
    "- La legibilidad es importante.\n",
    "- Casos especiales no son lo suficientemente especiales para romper las reglas.\n",
    "- Aunque la practicidad supera la pureza.\n",
    "- Los errores nunca deben pasar en silencio.\n",
    "- A menos que se silencie explícitamente.\n",
    "- Ante la ambigüedad, rechaza la tentación de adivinar.\n",
    "- Debería haber una - y preferiblemente sólo una - forma obvia de hacerlo.\n",
    "- Aunque esa manera no puede ser obvia al principio a menos que usted es holandés.\n",
    "- Ahora es mejor que nunca.\n",
    "- Aunque nunca es a menudo mejor que * derecho * ahora.\n",
    "- Si la implementación es difícil de explicar, es una mala idea.\n",
    "- Si la implementación es fácil de explicar, puede ser una buena idea.\n",
    "- Espacios de nombres son una buena idea - vamos a hacer más de esos!"
   ]
  },
  {
   "cell_type": "markdown",
   "metadata": {},
   "source": [
    "## Versiones de Python"
   ]
  },
  {
   "cell_type": "markdown",
   "metadata": {},
   "source": [
    "Puede comprobar su versión de Python en la línea de comandos ejecutando `python --version`."
   ]
  },
  {
   "cell_type": "code",
   "execution_count": null,
   "metadata": {
    "tags": []
   },
   "outputs": [],
   "source": [
    "! python --version"
   ]
  },
  {
   "cell_type": "markdown",
   "metadata": {},
   "source": [
    "## Instalar Python"
   ]
  },
  {
   "cell_type": "markdown",
   "metadata": {},
   "source": [
    "Descarga de la suite \"Anaconda\" (Python 3.9)\n",
    "\n",
    "### https://www.anaconda.com/download/ \n",
    "\n",
    "<img src=\"figuras/anaconda.png\" />"
   ]
  },
  {
   "cell_type": "markdown",
   "metadata": {},
   "source": [
    "## Introducción a Python"
   ]
  },
  {
   "cell_type": "markdown",
   "metadata": {},
   "source": [
    "En este tutorial, cubriremos:\n",
    "\n",
    "* Python básico: Tipos de datos básicos (Contenedores, Listas, Diccionarios, Conjuntos, Tuplas), Funciones, Clases\n",
    "* Numpy: Arreglos, Indexado de arreglos, Tipos de datos, Matemáticas de Arreglos, Broadcasting\n",
    "* Matplotlib: Gráficos, Subgráficos, Imágenes\n",
    "* Jupyter: Creación de notebooks"
   ]
  },
  {
   "cell_type": "markdown",
   "metadata": {},
   "source": [
    "### ¿Qué editor usar?\n",
    "\n",
    "Python no exige un editor específico y hay muchos modos y maneras de programar. \n",
    "\n",
    "Un buen editor orientado a Python científico es **Spyder**, que es un entorno integrado (editor + ayuda + consola interactiva)\n",
    "\n",
    "<img src=\"figuras/spyder.png\" />\n",
    "\n",
    "También existe un IDE para python llamado [PyCharm](https://www.jetbrains.com/pycharm/)\n",
    "\n",
    "<img src=\"figuras/PyCharm2.jpg\" />"
   ]
  },
  {
   "cell_type": "markdown",
   "metadata": {},
   "source": [
    "Python es un lenguaje de programación multiparadigma de alto nivel, de tipo dinámico. El código de Python a menudo se dice que es casi como pseudocódigo, ya que le permite expresar ideas muy poderosas en muy pocas líneas de código mientras que sea muy legible. Como ejemplo, aquí está una implementación del algoritmo clásico de quicksort en Python:"
   ]
  },
  {
   "cell_type": "code",
   "execution_count": null,
   "metadata": {
    "tags": []
   },
   "outputs": [],
   "source": [
    "def quicksort(arreglo):\n",
    "    if len(arreglo) <= 1:\n",
    "        return arreglo\n",
    "    pivote = arreglo[int(len(arreglo) / 2)]\n",
    "    izquierda = [x for x in arreglo if x < pivote]\n",
    "    medio = [x for x in arreglo if x == pivote]\n",
    "    derecha = [x for x in arreglo if x > pivote]\n",
    "    return quicksort(izquierda) + medio + quicksort(derecha)\n",
    "\n",
    "print (quicksort([3,6,8,10,1,2,1]))"
   ]
  },
  {
   "cell_type": "markdown",
   "metadata": {},
   "source": [
    "### Tipos de datos básicos"
   ]
  },
  {
   "cell_type": "markdown",
   "metadata": {},
   "source": [
    "#### Números"
   ]
  },
  {
   "cell_type": "markdown",
   "metadata": {},
   "source": [
    "Los números enteros y los punto flotante funcionan como se esperaría de otros lenguajes:"
   ]
  },
  {
   "cell_type": "code",
   "execution_count": null,
   "metadata": {
    "tags": []
   },
   "outputs": [],
   "source": [
    "x = 3.5\n",
    "print(x)\n",
    "type(x)"
   ]
  },
  {
   "cell_type": "code",
   "execution_count": null,
   "metadata": {
    "tags": []
   },
   "outputs": [],
   "source": [
    "print (x + 1)   # Suma;\n",
    "print (x - 1)   # Resta;\n",
    "print (x * 2)   # Multiplicación;\n",
    "print (x // 2)  # División entera;\n",
    "print (x / 2)   # División punto flotante;\n",
    "print (x % 2)   # Modulo;\n",
    "print (x ** 2)  # Exponenciación;   "
   ]
  },
  {
   "cell_type": "code",
   "execution_count": null,
   "metadata": {
    "tags": []
   },
   "outputs": [],
   "source": [
    "print(x == 5)\n",
    "print(x>3)\n",
    "print(x<3)\n",
    "print(x>=5)\n",
    "print(x<=10)\n",
    "print(x != 5)  # <>  # ~="
   ]
  },
  {
   "cell_type": "code",
   "execution_count": null,
   "metadata": {
    "tags": []
   },
   "outputs": [],
   "source": [
    "x += 1  # x = x +1\n",
    "print (x)  # Imprime \"4\"\n",
    "x *= 2   #  x = x *2\n",
    "print (x)  # Imprime \"8\""
   ]
  },
  {
   "cell_type": "code",
   "execution_count": null,
   "metadata": {
    "tags": []
   },
   "outputs": [],
   "source": [
    "y = 2.5\n",
    "print (type(y)) # Imprime \"<class 'float'>\"\n",
    "print (y, y + 1, y * 2, y ** 2) # Imprime \"2.5 3.5 5.0 6.25\""
   ]
  },
  {
   "cell_type": "code",
   "execution_count": null,
   "metadata": {
    "tags": []
   },
   "outputs": [],
   "source": [
    "c =(3 + 3j) + (5 - 2j)\n",
    "print(c)"
   ]
  },
  {
   "cell_type": "code",
   "execution_count": null,
   "metadata": {
    "tags": []
   },
   "outputs": [],
   "source": [
    "type(c)"
   ]
  },
  {
   "cell_type": "markdown",
   "metadata": {},
   "source": [
    "Tenga en cuenta que a diferencia de muchos lenguajes, Python no tiene operadores unarios de incremento (x++) o decremento (x--).\n",
    "\n",
    "Python también tiene tipos incorporados para enteros largos y números complejos; Puede encontrar todos los detalles en la [documentación](https://docs.python.org/3/library/stdtypes.html#numeric-types-int-float-long-complex)."
   ]
  },
  {
   "cell_type": "markdown",
   "metadata": {},
   "source": [
    "#### Booleanos"
   ]
  },
  {
   "cell_type": "markdown",
   "metadata": {},
   "source": [
    "Python implementa todos los operadores habituales para la lógica booleana, pero usa palabras en inglés en lugar de símbolos (`&&`, `||`, etc.):"
   ]
  },
  {
   "cell_type": "code",
   "execution_count": null,
   "metadata": {
    "tags": []
   },
   "outputs": [],
   "source": [
    "t, f = True, False\n",
    "print (type(t)) # Imprime \"<class 'bool'>\""
   ]
  },
  {
   "cell_type": "markdown",
   "metadata": {},
   "source": [
    "Ahora veamos las operaciones:"
   ]
  },
  {
   "cell_type": "code",
   "execution_count": null,
   "metadata": {
    "tags": []
   },
   "outputs": [],
   "source": [
    "print (t and f) # Y Lógico;  # &&\n",
    "print (t or f)  # O Lógico; # ||\n",
    "print (not t)   # NO Lógico; # !\n",
    "print (t != t)  # XOR Lógico;"
   ]
  },
  {
   "cell_type": "markdown",
   "metadata": {},
   "source": [
    "#### Cadena de carácteres (Strings)"
   ]
  },
  {
   "cell_type": "code",
   "execution_count": null,
   "metadata": {
    "tags": []
   },
   "outputs": [],
   "source": [
    "hola = 'hola   mundo cruel'   # Los literales de cadenas pueden usar comillas simples\n",
    "mundo = \"y desalmado\"   # o comillas dobles; no importa.\n",
    "print (hola, len(hola))"
   ]
  },
  {
   "cell_type": "code",
   "execution_count": null,
   "metadata": {
    "tags": []
   },
   "outputs": [],
   "source": [
    "hm = hola + '      ' + mundo  # Concatenación de cadenas\n",
    "print (hm)  # imprime \"hola mundo\""
   ]
  },
  {
   "cell_type": "code",
   "execution_count": null,
   "metadata": {
    "tags": []
   },
   "outputs": [],
   "source": [
    "hm12 = '%s espacio %s otro espacio %d' % (hola, mundo, 12)  # formatos de cadena estilo sprintf\n",
    "print (hm12)  # imprime \"hola mundo 12\""
   ]
  },
  {
   "cell_type": "code",
   "execution_count": null,
   "metadata": {
    "tags": []
   },
   "outputs": [],
   "source": [
    "print(hola + ' '+ mundo,12)"
   ]
  },
  {
   "cell_type": "markdown",
   "metadata": {},
   "source": [
    "Los objetos de cadena tienen un montón de métodos útiles; por ejemplo:"
   ]
  },
  {
   "cell_type": "code",
   "execution_count": null,
   "metadata": {
    "tags": []
   },
   "outputs": [],
   "source": [
    "s = \"hola\"\n",
    "print (s.capitalize())  # Capitalizar una cadena; Imprime \"Hola\"\n",
    "print (s.upper())       # Convertir una cadena en mayúsculas; Imprime \"HOLA\"\n",
    "print (s.rjust(7))      # Justificar a la derecha una cadena, relleno con espacios; Imprime \"  hola\"\n",
    "print (s.center(7))     # Centrar una cadena, relleno con espacios; Imprime \" hola \"\n",
    "print (s.replace('l', 'y'))  # Reemplazar todas las instancias de una subcadena con otra;\n",
    "                               # Imprime \"ho(ell)a\"\n",
    "print ('  mundo '.strip())  # Elimina los espacios en blanco al inicio y al final; Imprime \"mundo\""
   ]
  },
  {
   "cell_type": "markdown",
   "metadata": {},
   "source": [
    "Puede encontrar una lista de todos los métodos de cadenas en la [documentación](https://docs.python.org/3/library/stdtypes.html#string-methods)."
   ]
  },
  {
   "cell_type": "markdown",
   "metadata": {},
   "source": [
    "### Contenedores"
   ]
  },
  {
   "cell_type": "markdown",
   "metadata": {},
   "source": [
    "Python incluye varios tipos de contenedores: listas, diccionarios, conjuntos y tuplas."
   ]
  },
  {
   "cell_type": "markdown",
   "metadata": {},
   "source": [
    "#### Listas"
   ]
  },
  {
   "cell_type": "markdown",
   "metadata": {},
   "source": [
    "Una lista es el equivalente de Python de un arreglo, pero es redimensionable y puede contener elementos de diferentes tipos:"
   ]
  },
  {
   "cell_type": "code",
   "execution_count": null,
   "metadata": {
    "tags": []
   },
   "outputs": [],
   "source": [
    "xs = [4, 5, 6]   # Crear una lista\n",
    "print (xs)\n",
    "print(xs[2])\n",
    "print (xs[-2])   # Los índices negativos cuentan desde el final de la lista; Imprime \"2\""
   ]
  },
  {
   "cell_type": "code",
   "execution_count": null,
   "metadata": {
    "tags": []
   },
   "outputs": [],
   "source": [
    "xs[2] = 'mundo'    # Las listas pueden contener elementos de diferentes tipos\n",
    "print (xs)"
   ]
  },
  {
   "cell_type": "code",
   "execution_count": null,
   "metadata": {
    "tags": []
   },
   "outputs": [],
   "source": [
    "xs.append('hola') # Añadir un nuevo elemento al final de la lista\n",
    "print (xs)"
   ]
  },
  {
   "cell_type": "code",
   "execution_count": null,
   "metadata": {
    "tags": []
   },
   "outputs": [],
   "source": [
    "x = xs.pop()     # Elimina y devuelve el último elemento de la lista (o el indicado)\n",
    "print (x)\n",
    "print(xs) "
   ]
  },
  {
   "cell_type": "markdown",
   "metadata": {},
   "source": [
    "- comparamos listas"
   ]
  },
  {
   "cell_type": "code",
   "execution_count": null,
   "metadata": {
    "tags": []
   },
   "outputs": [],
   "source": [
    "l1 = [2,1,4]\n",
    "l2 = [2,3,4]\n",
    "l1 == l2 "
   ]
  },
  {
   "cell_type": "markdown",
   "metadata": {},
   "source": [
    "Como de costumbre, se pueden encontrar todos los detalles sobre listas en la [documentación](https://docs.python.org/3/tutorial/datastructures.html#more-on-lists)."
   ]
  },
  {
   "cell_type": "markdown",
   "metadata": {},
   "source": [
    "#### Rebanado  // Slicing"
   ]
  },
  {
   "cell_type": "markdown",
   "metadata": {},
   "source": [
    "Además de acceder a los elementos de la lista de uno en uno, Python proporciona sintaxis concisa para acceder a las sublistas; Esto se conoce como rebanar:"
   ]
  },
  {
   "cell_type": "code",
   "execution_count": null,
   "metadata": {
    "tags": []
   },
   "outputs": [],
   "source": [
    "nums = [0, 1, 2, 3, 4]\n",
    "print (nums)         # Imprime \"[0, 1, 2, 3, 4]\"\n",
    "print (nums[2:4])    # Obtener una porción del índice 2 al 4 (exclusivo); imprime \"[2, 3]\"\n",
    "print (nums[2:])     # Obtener una porción del índice 2 hasta el final; imprime \"[2, 3, 4]\"\n",
    "print (nums[:2])     # Obtener una porción desde el principio hasta el índice 2 (exclusivo); imprime \"[0, 1]\"\n",
    "print (nums[:])      # Obtener una porción de toda la lista; imprime [\"0, 1, 2, 3, 4]\"\n",
    "print (nums[:-1])    # Los índices de las porciones pueden ser negativos; imprime [\"0, 1, 2, 3]\"\n",
    "nums[2:4] = [8, 9]   # Asignar una nueva sublista a una porción\n",
    "print (nums)         # Imprime \"[0, 1, 8, 9, 4]\""
   ]
  },
  {
   "cell_type": "markdown",
   "metadata": {},
   "source": [
    "#### Condicionales"
   ]
  },
  {
   "cell_type": "code",
   "execution_count": null,
   "metadata": {
    "tags": []
   },
   "outputs": [],
   "source": [
    "n = 110\n",
    "if n % 2 == 0:\n",
    "    print(n,\"es un número par\")\n",
    "else:\n",
    "    print(n,\"es un número impar\")"
   ]
  },
  {
   "cell_type": "markdown",
   "metadata": {},
   "source": [
    "- Podemos utilizar la sentencia elif, como un else if."
   ]
  },
  {
   "cell_type": "code",
   "execution_count": null,
   "metadata": {
    "tags": []
   },
   "outputs": [],
   "source": [
    "nota = float(input(\"Introduce una nota: \"))\n",
    "if nota >= 9:\n",
    "    print(\"Sobresaliente\")\n",
    "elif nota >= 7:\n",
    "    print(\"Notable\")\n",
    "elif nota >= 6:\n",
    "    print(\"Bien\")\n",
    "elif nota >= 5:\n",
    "    print(\"Suficiente\")\n",
    "else:\n",
    "    print(\"Insuficiente\")"
   ]
  },
  {
   "cell_type": "markdown",
   "metadata": {},
   "source": [
    "### Bucles"
   ]
  },
  {
   "cell_type": "markdown",
   "metadata": {},
   "source": [
    "#### Ciclo *while*"
   ]
  },
  {
   "cell_type": "code",
   "execution_count": null,
   "metadata": {
    "tags": []
   },
   "outputs": [],
   "source": [
    "c = 0\n",
    "while c <= 5:\n",
    "    c+=1\n",
    "    print(\"c vale\",c)"
   ]
  },
  {
   "cell_type": "code",
   "execution_count": null,
   "metadata": {
    "tags": []
   },
   "outputs": [],
   "source": [
    "# recorrer una lista con while\n",
    "\n",
    "numeros = [2,4,6,8,10,12]\n",
    "indice = 0\n",
    "while indice < len(numeros):\n",
    "    print(numeros[indice])\n",
    "    indice+=1"
   ]
  },
  {
   "cell_type": "markdown",
   "metadata": {},
   "source": [
    "#### Ciclo *for*"
   ]
  },
  {
   "cell_type": "markdown",
   "metadata": {},
   "source": [
    "Puedes realizar un bucle sobre los elementos de una lista de la siguiente forma:"
   ]
  },
  {
   "cell_type": "code",
   "execution_count": null,
   "metadata": {
    "tags": []
   },
   "outputs": [],
   "source": [
    "lista = ['gato', 'perro', 'mono']\n",
    "for elemento in lista:\n",
    "    print (elemento)"
   ]
  },
  {
   "cell_type": "markdown",
   "metadata": {},
   "source": [
    "Si desea tener acceso al índice de cada elemento dentro del cuerpo de un lazo, utilice la función `enumerate` :"
   ]
  },
  {
   "cell_type": "code",
   "execution_count": null,
   "metadata": {
    "tags": []
   },
   "outputs": [],
   "source": [
    "animales = ['gato', 'perro', 'mono']\n",
    "for idx, animal in enumerate(animales):\n",
    "    print ('#%d: %s' % (idx, animal))"
   ]
  },
  {
   "cell_type": "markdown",
   "metadata": {},
   "source": [
    "- Generar listas mediante range, si quremos iterar mediante for"
   ]
  },
  {
   "cell_type": "code",
   "execution_count": null,
   "metadata": {
    "tags": []
   },
   "outputs": [],
   "source": [
    "for i in range(5,10):\n",
    "    print(i)"
   ]
  },
  {
   "cell_type": "markdown",
   "metadata": {},
   "source": [
    "#### Listas por comprensión:"
   ]
  },
  {
   "cell_type": "markdown",
   "metadata": {},
   "source": [
    "Al programar, con frecuencia queremos transformar un tipo de datos en otro. Como ejemplo simple, considere el siguiente código que calcula los números cuadrados:"
   ]
  },
  {
   "cell_type": "code",
   "execution_count": null,
   "metadata": {
    "tags": []
   },
   "outputs": [],
   "source": [
    "nums = [0, 1, 2, 3, 4]\n",
    "cuadrados = []\n",
    "for elem in nums:\n",
    "    cuadrados.append(elem ** 2)\n",
    "    \n",
    "print (cuadrados)"
   ]
  },
  {
   "cell_type": "markdown",
   "metadata": {},
   "source": [
    "Puede simplificar este código utilizando una listas por compresión:"
   ]
  },
  {
   "cell_type": "code",
   "execution_count": null,
   "metadata": {
    "tags": []
   },
   "outputs": [],
   "source": [
    "nums = [0, 1, 2, 3, 4]\n",
    "cuadrados = [x**2 for x in nums]\n",
    "print (cuadrados)"
   ]
  },
  {
   "cell_type": "markdown",
   "metadata": {},
   "source": [
    "Listas por comprensión puede tambien contener condiciones:"
   ]
  },
  {
   "cell_type": "code",
   "execution_count": null,
   "metadata": {
    "tags": []
   },
   "outputs": [],
   "source": [
    "nums = [0, 1, 2, 3, 4]\n",
    "cuadrados_pares = [x ** 2 for x in nums if x % 2 == 0]\n",
    "print (cuadrados_pares)"
   ]
  },
  {
   "cell_type": "markdown",
   "metadata": {},
   "source": [
    "#### Diccionarios"
   ]
  },
  {
   "cell_type": "markdown",
   "metadata": {},
   "source": [
    "Un diccionario almacena pares (clave, valor) parecidos a un Mapa en Java o un objeto en Javascript. Puedes usarlo así:"
   ]
  },
  {
   "cell_type": "code",
   "execution_count": null,
   "metadata": {
    "tags": []
   },
   "outputs": [],
   "source": [
    "d = {'gato': 'cat', 'perro': 'dog'}  # Crear un nuevo diccionario con algunos datos\n",
    "print (d['perro'])       # Obtener una entrada de un diccionario; imprime \"cat\"\n",
    "print (d)     # Compruebe si un diccionario tiene una clave dada; imprime \"dog\""
   ]
  },
  {
   "cell_type": "code",
   "execution_count": null,
   "metadata": {
    "tags": []
   },
   "outputs": [],
   "source": [
    "d['pez'] = 'fish' # Agrega o modifica una entrada en un diccionario\n",
    "print (d['pez'])# Imprime \"fish\"\n",
    "print (d)\n",
    "d['pez'] = 'pitch'\n",
    "print (d)"
   ]
  },
  {
   "cell_type": "code",
   "execution_count": null,
   "metadata": {
    "tags": []
   },
   "outputs": [],
   "source": [
    "print (d['mono'])  # KeyError: 'mono' no es una clave de d"
   ]
  },
  {
   "cell_type": "code",
   "execution_count": null,
   "metadata": {
    "tags": []
   },
   "outputs": [],
   "source": [
    "print (d.get('mono', 'Esa clave no existe'))  # Obtener un elemento con un valor predeterminado; \n",
    "                                              #si no se encuentra envía una  cadena en lugar de error\n",
    "print (d.get('rana', 'N/A'))   "
   ]
  },
  {
   "cell_type": "code",
   "execution_count": null,
   "metadata": {
    "tags": []
   },
   "outputs": [],
   "source": [
    "del d['pez']        # Eliminar un elemento de un diccionario\n",
    "print (d.get('pez', 'N/A')) # \"pez\" ya no es una clave; imprime \"N / A\""
   ]
  },
  {
   "cell_type": "markdown",
   "metadata": {},
   "source": [
    "Puedes encontrar todo lo que necesitas saber sobre diccionarios en la [documentación](https://docs.python.org/3/library/stdtypes.html#dict)."
   ]
  },
  {
   "cell_type": "markdown",
   "metadata": {},
   "source": [
    "Es fácil de iterar sobre las claves en un diccionario:"
   ]
  },
  {
   "cell_type": "code",
   "execution_count": null,
   "metadata": {
    "tags": []
   },
   "outputs": [],
   "source": [
    "d = {'pajaro': 2, 'gato': 4, 'araña': 8}\n",
    "for animal in d:\n",
    "    patas = d[animal]\n",
    "    print ('Un %s tiene %d patas' % (animal, patas))"
   ]
  },
  {
   "cell_type": "markdown",
   "metadata": {},
   "source": [
    "Si desea acceder a las claves y sus valores correspondientes, utilice el método items:"
   ]
  },
  {
   "cell_type": "code",
   "execution_count": null,
   "metadata": {
    "tags": []
   },
   "outputs": [],
   "source": [
    "d = {'pajaro': 2, 'gato': 4, 'araña': 8}\n",
    "for animal, patas in d.items():\n",
    "    print ('Un %s tiene %d patas' % (animal, patas))"
   ]
  },
  {
   "cell_type": "markdown",
   "metadata": {},
   "source": [
    "Diccionario por comprensión: Estos son similares a la lista por comprensión, pero le permiten construir fácilmente diccionarios. Por ejemplo:"
   ]
  },
  {
   "cell_type": "code",
   "execution_count": null,
   "metadata": {
    "tags": []
   },
   "outputs": [],
   "source": [
    "nums = [0, 1, 2, 3, 4]\n",
    "cuadrados_numeros_pares = {x: x ** 2 for x in nums if x % 2 == 0}\n",
    "print (cuadrados_numeros_pares)"
   ]
  },
  {
   "cell_type": "markdown",
   "metadata": {},
   "source": [
    "#### Conjuntos"
   ]
  },
  {
   "cell_type": "markdown",
   "metadata": {},
   "source": [
    "Un conjunto es una colección desordenada de elementos distintos. Como ejemplo simple, considere lo siguiente:"
   ]
  },
  {
   "cell_type": "code",
   "execution_count": null,
   "metadata": {
    "tags": []
   },
   "outputs": [],
   "source": [
    "animales = {'gato', 'perro'}\n",
    "print ('gato' in animales)   # Compruebe si un elemento está en un conjunto; imprime \"True\"\n",
    "print ('pez' in animales)    # imprime \"False\"\n"
   ]
  },
  {
   "cell_type": "code",
   "execution_count": null,
   "metadata": {
    "tags": []
   },
   "outputs": [],
   "source": [
    "animales.add('pez')       # Agregar un elemento a un conjunto\n",
    "print ('pez' in animales)\n",
    "print (len(animales))     # Número de elementos en un conjunto;"
   ]
  },
  {
   "cell_type": "code",
   "execution_count": null,
   "metadata": {
    "tags": []
   },
   "outputs": [],
   "source": [
    "animales.add('gato')       # Agregar un elemento que ya está en el conjunto no hace nada\n",
    "print (len(animales))       \n",
    "animales.remove('gato')    # Eliminar un elemento de un conjunto\n",
    "print (len(animales))       "
   ]
  },
  {
   "cell_type": "code",
   "execution_count": null,
   "metadata": {
    "tags": []
   },
   "outputs": [],
   "source": [
    "animales"
   ]
  },
  {
   "cell_type": "markdown",
   "metadata": {},
   "source": [
    "_Bucles_: Iterar sobre un conjunto tiene la misma sintaxis que iterar sobre una lista; Sin embargo, puesto que los conjuntos están desordenados, no se pueden hacer suposiciones acerca del orden en el que se visitan los elementos del conjunto:"
   ]
  },
  {
   "cell_type": "code",
   "execution_count": null,
   "metadata": {
    "tags": []
   },
   "outputs": [],
   "source": [
    "animales = {'gato', 'perro', 'pez'}\n",
    "for idx, animal in enumerate(animales):\n",
    "    print ('#%d: %s' % (idx, animal))\n",
    "# Imprime \"#1: pez\", \"#2: gato\", \"#3: perro\""
   ]
  },
  {
   "cell_type": "code",
   "execution_count": null,
   "metadata": {
    "tags": []
   },
   "outputs": [],
   "source": [
    "# ¿Que pasa si trato de acceder por indice?\n",
    "\n",
    "print(animales[1])"
   ]
  },
  {
   "cell_type": "markdown",
   "metadata": {},
   "source": [
    "Conjunto por comprensión: Al igual que las listas y los diccionarios, podemos construir fácilmente conjuntos utilizando conjuntos por comprensión:"
   ]
  },
  {
   "cell_type": "code",
   "execution_count": null,
   "metadata": {
    "tags": []
   },
   "outputs": [],
   "source": [
    "from math import sqrt\n",
    "print ({int(sqrt(x)) for x in range(30)})"
   ]
  },
  {
   "cell_type": "markdown",
   "metadata": {},
   "source": [
    "#### Tuplas"
   ]
  },
  {
   "cell_type": "markdown",
   "metadata": {},
   "source": [
    "- Una tupla es una lista ordenada (inmutable) de valores."
   ]
  },
  {
   "cell_type": "code",
   "execution_count": null,
   "metadata": {
    "tags": []
   },
   "outputs": [],
   "source": [
    "t = (5, 6)       # Crear una tupla\n",
    "print (type(t))"
   ]
  },
  {
   "cell_type": "code",
   "execution_count": null,
   "metadata": {
    "tags": []
   },
   "outputs": [],
   "source": [
    "# ¿Qué sucede si queremos modificar una posición de una tupla?\n",
    "print(t[0])"
   ]
  },
  {
   "cell_type": "code",
   "execution_count": null,
   "metadata": {
    "tags": []
   },
   "outputs": [],
   "source": [
    "t[1]= 7"
   ]
  },
  {
   "cell_type": "markdown",
   "metadata": {},
   "source": [
    "- Una tupla es en muchos aspectos similar a una lista; Una de las diferencias más importantes es que las tuplas se pueden utilizar como claves en diccionarios y como elementos de conjuntos, mientras que las listas no pueden. Aquí hay un ejemplo trivial:"
   ]
  },
  {
   "cell_type": "code",
   "execution_count": null,
   "metadata": {
    "tags": []
   },
   "outputs": [],
   "source": [
    "# Un diccionario con tuplas como claves\n",
    "d = {(x, x + 1): x for x in range(10)}  # Crear un diccionario con claves de tupla\n",
    "print (d)       \n",
    "print (d[(1, 2)])"
   ]
  },
  {
   "cell_type": "code",
   "execution_count": null,
   "metadata": {
    "tags": []
   },
   "outputs": [],
   "source": [
    "#Conjunto de listas\n",
    "s = set([[1, 2, 3], [4, 5, 6]])  # ❌ ERROR\n"
   ]
  },
  {
   "cell_type": "code",
   "execution_count": null,
   "metadata": {
    "tags": []
   },
   "outputs": [],
   "source": [
    "# Conjunto con tuplas\n",
    "s = set([(1, 2, 3), (4, 5, 6)])  \n",
    "s"
   ]
  },
  {
   "cell_type": "markdown",
   "metadata": {},
   "source": [
    "### Funciones"
   ]
  },
  {
   "cell_type": "markdown",
   "metadata": {},
   "source": [
    "Las funciones de Python se definen mediante la palabra clave `def`. Por ejemplo:"
   ]
  },
  {
   "cell_type": "code",
   "execution_count": null,
   "metadata": {
    "tags": []
   },
   "outputs": [],
   "source": [
    "def signo(x):\n",
    "    if x > 0:\n",
    "        return 'positivo'\n",
    "    elif x < 0:\n",
    "        return 'negativo'\n",
    "    else:\n",
    "        return 'cero'\n",
    "\n",
    "for x in [-2, -1, 0, 1, 2]:\n",
    "    print (signo(x))"
   ]
  },
  {
   "cell_type": "markdown",
   "metadata": {},
   "source": [
    "Definiremos a menudo las funciones para que tomen argumentos opcionales, como esto:"
   ]
  },
  {
   "cell_type": "code",
   "execution_count": null,
   "metadata": {
    "tags": []
   },
   "outputs": [],
   "source": [
    "def hola(nombre, gritar=False):\n",
    "    if gritar:\n",
    "        print ('HOLA, %s' % nombre.upper())\n",
    "    else:\n",
    "        print ('Hola, %s!' % nombre)\n",
    "\n",
    "hola('Juan')\n",
    "hola('Manuel',gritar = True)"
   ]
  },
  {
   "cell_type": "markdown",
   "metadata": {},
   "source": [
    "- Funciones permite retornar varios parlametros"
   ]
  },
  {
   "cell_type": "code",
   "execution_count": null,
   "metadata": {
    "tags": []
   },
   "outputs": [],
   "source": [
    "def desplazar(x,y,valor):\n",
    "    x = x + valor\n",
    "    y = y + valor\n",
    "    return x, y\n",
    "\n",
    "[sx, sy] = desplazar(5,-2,3)\n",
    "print('Desplaza x = %d, y = %d' % (sx,sy))"
   ]
  },
  {
   "cell_type": "markdown",
   "metadata": {},
   "source": [
    "### Clases"
   ]
  },
  {
   "cell_type": "markdown",
   "metadata": {},
   "source": [
    "La sintaxis para definir clases en Python es sencilla:"
   ]
  },
  {
   "cell_type": "code",
   "execution_count": null,
   "metadata": {
    "tags": []
   },
   "outputs": [],
   "source": [
    "class Saludo:\n",
    "\n",
    "    # Constructor\n",
    "    def __init__(self, nombre):\n",
    "        self.nombre = nombre  # Crear una variable de instancia\n",
    "\n",
    "    # Método de instancia\n",
    "    def saludar(self, gritar=False):\n",
    "        if gritar:\n",
    "            print ('HOLA, %s!' % self.nombre.upper())\n",
    "        else:\n",
    "            print ('Hola, %s' % self.nombre)\n",
    "\n",
    "s = Saludo('Fred')  # Construct an instance of the Greeter class\n",
    "s.saludar()            # Call an instance method; prints \"Hello, Fred\"\n",
    "s.saludar(gritar=True)   # Call an instance method; prints \"HELLO, FRED!\"\n",
    "s.nombre"
   ]
  },
  {
   "cell_type": "markdown",
   "metadata": {},
   "source": [
    "## Ejercicios propuestos"
   ]
  },
  {
   "cell_type": "markdown",
   "metadata": {
    "tags": []
   },
   "source": [
    "### 1. Calculadora de ecuaciones cuadráticas\n",
    "\n",
    "Desarrolle un programa en Python que permita al usuario ingresar los coeficientes de una ecuación cuadrática (ax² + bx + c = 0) y que calcule y muestre las soluciones reales, si existen.\n",
    "\n",
    "- Pida al usuario que ingrese los valores de a, b y c.\n",
    "- Utilice la fórmula cuadrática para calcular las raíces.\n",
    "- Si el discriminante es negativo, imprima un mensaje indicando que no hay soluciones reales.\n",
    "- Si el discriminante es cero, imprima que hay una única solución.\n",
    "- Si el discriminante es positivo, imprima las dos soluciones.\n",
    "- Utilice widgets para introducir valores reales entre -10 y 10 como coeficientes y envíe la salida a una label."
   ]
  },
  {
   "cell_type": "markdown",
   "metadata": {
    "tags": []
   },
   "source": [
    "\n",
    "\n",
    "### 2. Desarrolle un programa en Phyton 3 que implemente el juego de adivinar un número entre 1 y 100:\n",
    "\n",
    "- Pida al jugador que ingrese su nombre. Utilice su nombre para imprimir un saludo.\n",
    "- Genere un número aleatorio de 1 a 100 y guárdelo como un número objetivo para que el jugador lo adivine.\n",
    "- Lleve un registro de cuántas suposiciones ha hecho el jugador. Antes de cada suposición, hágales saber cuántas suposiciones (de 10) que han dejado.\n",
    "- Pida al jugador que adivine cuál es el número objetivo.\n",
    "- Si la suposición del jugador es menor que el número objetivo, diga \"Oops. Su conjetura fue baja\". Si la suposición del jugador es mayor que el número objetivo, diga \"Oops. Su conjetura fue alta\".\n",
    "- Si la suposición del jugador es igual al número objetivo, dígales \"Buen trabajo, [nombre]! ¿Adivinaste mi número en [número de conjeturas] conjeturas!\"\n",
    "- Si el jugador se queda sin turnos sin adivinar correctamente, diga \"Lo siento, no obtuvo mi número, mi número fue [objetivo]\".\n",
    "- Sigue permitiendo que el jugador adivine hasta que lo logren, o se quedan sin turnos.\n",
    "\n"
   ]
  },
  {
   "cell_type": "markdown",
   "metadata": {},
   "source": [
    "### 3. Conversor de unidades\n",
    "Desarrolle un programa que permita convertir unidades de longitud entre diferentes sistemas métricos y anglosajones.\n",
    "\n",
    "- El programa debe permitir convertir entre metros, kilómetros, millas y pies.\n",
    "- Pida al usuario que ingrese un valor y la unidad original.\n",
    "- El usuario debe elegir a qué unidad desea convertir el valor.\n",
    "- Imprima el valor convertido.\n",
    "- Utiliza un diccionario para almacenar los factores de conversión entre las unidades.\n",
    "\n",
    "Tener en cuenta:\n",
    "\n",
    "#### Factores de Conversión\n",
    "\n",
    "- **Metros**: 1\n",
    "- **Kilómetros**: 0.001\n",
    "- **Millas**: 0.000621371\n",
    "- **Pies**: 3.28084\n",
    "\n",
    "#### Fórmula para la Conversión\n",
    "\n",
    "$$\n",
    "\\text{valor convertido} = \\text{valor} \\times \\frac{\\text{factor de destino}}{\\text{factor de origen}}\n",
    "$$\n",
    "\n",
    "Donde:\n",
    "- ***valor convertido*** es el resultado esperado de la conversión\n",
    "- ***valor*** es el valor que deseas convertir.\n",
    "- ***factor de origen*** es el factor correspondiente a la unidad de origen.\n",
    "- ***factor de destino*** es el factor correspondiente a la unidad de destino.\n"
   ]
  },
  {
   "cell_type": "markdown",
   "metadata": {},
   "source": [
    "### 4. Gestión de Cursos Académicos\n",
    "#### Descripción:\n",
    "Se desea desarrollar un sistema para gestionar los cursos matriculados en un semestre académico. Cada curso estará representado como un diccionario, que contendrá la siguiente información:\n",
    "\n",
    "- Código del curso.\n",
    "- Nombre del curso.\n",
    "- Nota del primer corte.\n",
    "- Nota del segundo corte.\n",
    "- Nota del tercer corte.\n",
    "- Nota definitiva (calculada automáticamente a partir de las notas de los tres cortes).\n",
    "Los cursos serán almacenados en una lista y se deberá implementar un conjunto de funcionalidades para gestionar esta información.\n",
    "\n",
    "#### Requerimientos:\n",
    "##### Añadir curso:\n",
    "\n",
    "- Se debe permitir al usuario ingresar el código del curso, nombre del curso, y las notas del primer, segundo y tercer corte.\n",
    "- El sistema calculará automáticamente la nota definitiva como el promedio simple de las tres notas (puede modificarse según criterio).\n",
    "- El curso se almacenará en la lista de cursos.\n",
    "\n",
    "##### Eliminar curso:\n",
    "\n",
    "- El sistema permitirá eliminar un curso a partir de su código.\n",
    "- Si el curso existe, se eliminará de la lista. Si no existe, el sistema debe notificar que no se encontró el curso.\n",
    "\n",
    "##### Ver información del curso:\n",
    "\n",
    "- El usuario podrá ingresar el código del curso y el sistema mostrará toda la información relacionada con dicho curso (nombre del curso, notas de los cortes y nota definitiva).\n",
    "- Si el curso no existe, el sistema notificará que no se encontró el curso.\n",
    "\n",
    "##### Ver promedio académico final:\n",
    "\n",
    "- El sistema calculará y mostrará el promedio académico final del estudiante, basado en las notas definitivas de todos los cursos almacenados.\n",
    "- Si no hay cursos registrados, el sistema debe notificar al usuario que no hay datos suficientes para calcular el promedio.\n",
    "\n",
    "#### Especificaciones técnicas:\n",
    "- El sistema debe utilizar diccionarios para representar cada curso, con las claves: 'codigo', 'nombre', 'nota1', 'nota2', 'nota3', 'definitiva'.\n",
    "- Los cursos deben ser almacenados en una lista que permitirá agregar, eliminar y consultar la información de manera eficiente."
   ]
  },
  {
   "cell_type": "markdown",
   "metadata": {},
   "source": [
    "__Referencias__\n",
    "\n",
    "* Tutorial de Python oficial actualizado y traducido al español http://docs.python.org.ar/tutorial/\n",
    "* Curso de ntroducción a Python para científicos e ingenieros de la Universidad de Alicante en Youtube https://www.youtube.com/playlist?list=PLoGFizEtm_6iheDXw2-8onKClyxgstBO1\n",
    "* Introducción a la programación con Python, Universitat Jaume I http://repositori.uji.es/xmlui/bitstream/10234/102653/1/s93.pdf"
   ]
  },
  {
   "cell_type": "code",
   "execution_count": null,
   "metadata": {},
   "outputs": [],
   "source": []
  }
 ],
 "metadata": {
  "anaconda-cloud": {},
  "kernelspec": {
   "display_name": "Python (env-si01)",
   "language": "python",
   "name": "env-si01"
  },
  "language_info": {
   "codemirror_mode": {
    "name": "ipython",
    "version": 3
   },
   "file_extension": ".py",
   "mimetype": "text/x-python",
   "name": "python",
   "nbconvert_exporter": "python",
   "pygments_lexer": "ipython3",
   "version": "3.12.0"
  }
 },
 "nbformat": 4,
 "nbformat_minor": 4
}
