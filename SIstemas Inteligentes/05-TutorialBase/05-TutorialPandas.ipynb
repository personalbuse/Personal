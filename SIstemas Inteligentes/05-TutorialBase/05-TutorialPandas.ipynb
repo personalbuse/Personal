{
 "cells": [
  {
   "cell_type": "markdown",
   "metadata": {},
   "source": [
    "# Introducción a Pandas"
   ]
  },
  {
   "cell_type": "markdown",
   "metadata": {},
   "source": [
    "\n",
    "<img src=\"figuras/pandas-logo.png\" />\n",
    "\n",
    "\n",
    "Definitivamente es el sinónimo de \"Python para el análisis de datos\".\n",
    "\n",
    "[Pandas](https://pandas.pydata.org/index.html) es una poderosa biblioteca de Python de análisis de datos que se construye encima de numpy que es otra biblioteca que le permite crear arreglos de datos 2d e incluso 3d en Python. El objeto principal de pandas se llama un dataframe. Un dataframe es básicamente una matriz numpy de 2d con filas y columnas, que también tiene etiquetas para columnas y filas.\n",
    "\n",
    "Pandas ofrece las siguientes estructuras de datos:\n",
    "\n",
    "*Series*: Son arrays unidimensionales con indexación (arrays con índice o etiquetados), similar a los diccionarios. Pueden generarse a partir de diccionarios o de listas.\n",
    " \n",
    "*DataFrame*: Son estructuras de datos similares a las tablas de bases de datos relacionales como SQL.\n",
    "\n",
    "Puede crear dataframes de varios formatos de datos de entrada, como CSV, JSON, diccionarios Python, etc. Una vez que haya cargado el marco de datos en Python, puede aplicar varias funciones de análisis y visualización de datos al dataframe y convertir básicamente los datos del dataframe en información valiosa."
   ]
  },
  {
   "cell_type": "markdown",
   "metadata": {},
   "source": [
    "El primer ejemplo que vamos a poner va a ser el de definir una estructura de datos \"Series\" que como ya comentamos es un array de datos unidimensional con idexación. Las \"Series\" se definen de la siguiente manera:\n",
    "\n",
    "`serie = pd.Series(data, index=index)`"
   ]
  },
  {
   "cell_type": "markdown",
   "metadata": {},
   "source": [
    "Es decir, que en el primer parámetro le indicamos los datos del array y en el segundo parámetro los índices. Veamos un ejemplo de como crear una estructura \"Series\" con los integrantes de la selección Española de fútbol que ganó el mudial del año 2010, en el que tenemos como 'data' sus nombres y como índice su dorsal:"
   ]
  },
  {
   "cell_type": "code",
   "execution_count": null,
   "metadata": {
    "tags": []
   },
   "outputs": [],
   "source": [
    "import pandas as pd\n",
    "\n",
    "seleccionEspaña = pd.Series(\n",
    "    ['Casillas', 'Ramos', 'Pique', 'Puyol', 'Capdevila', 'Xabi Alonso', 'Busquets', 'Xavi Hernandez', 'Pedrito',\n",
    "     'Iniesta', 'Villa'], index=[1, 15, 3, 5, 11, 14, 16, 8, 18, 6, 7])\n"
   ]
  },
  {
   "cell_type": "code",
   "execution_count": null,
   "metadata": {
    "tags": []
   },
   "outputs": [],
   "source": [
    "print (\"Jugadores de la Selección Española: \\n %s\" % seleccionEspaña)"
   ]
  },
  {
   "cell_type": "markdown",
   "metadata": {},
   "source": [
    "En el siguiente caso; en el que no le indiquemos los índices de forma explícita, nos generará los índices de forma automática empezando desde el valor cero: "
   ]
  },
  {
   "cell_type": "code",
   "execution_count": null,
   "metadata": {
    "tags": []
   },
   "outputs": [],
   "source": [
    "seleccionEspaña"
   ]
  },
  {
   "cell_type": "code",
   "execution_count": null,
   "metadata": {
    "tags": []
   },
   "outputs": [],
   "source": [
    "seleccionEspaña = pd.Series(\n",
    "    ['Casillas', 'Ramos', 'Pique', 'Puyol', 'Capdevila', 'Xabi Alonso', 'Busquets', 'Xavi Hernandez', 'Pedrito',\n",
    "     'Iniesta', 'Villa'])\n"
   ]
  },
  {
   "cell_type": "code",
   "execution_count": null,
   "metadata": {
    "tags": []
   },
   "outputs": [],
   "source": [
    "print (\"Jugadores de la Selección Española: \\n%s\" % seleccionEspaña)"
   ]
  },
  {
   "cell_type": "markdown",
   "metadata": {},
   "source": [
    "También podemos crearnos una estructura de datos \"Series\" a partir de una lista o de un diccionario. Si la construimos a partir de una lista nos pondrá los índices por defecto y si lo creamos a partir de un diccionario, pondrá como índices las claves. Vamos a ver a continuación un ejemplo de como crear una Serie a partir de un diccionario y además vamos a ver como insertar en esta serie un nuevo elemento:"
   ]
  },
  {
   "cell_type": "code",
   "execution_count": null,
   "metadata": {
    "tags": []
   },
   "outputs": [],
   "source": [
    "dictJugadores = {1: 'Casillas', 15: 'Ramos', 3: 'Pique', 5: 'Puyol', 11: 'Capdevila', 14: 'Xabi Alonso',\n",
    "               16: 'Busquets', 8: 'Xavi Hernandez', 18: 'Pedrito', 6: 'Iniesta', 7: 'Villa'}\n",
    "jugadores = pd.Series(dictJugadores)\n",
    "print(\"Jugadores seleccion española %s\" % jugadores)"
   ]
  },
  {
   "cell_type": "code",
   "execution_count": null,
   "metadata": {
    "tags": []
   },
   "outputs": [],
   "source": [
    "# Insertar un nuevo jugador\n",
    "jugadores[10] = 'Cesc'\n",
    "print (\"Jugadores de Futbol Españoles: \\n%s\" % jugadores)"
   ]
  },
  {
   "cell_type": "markdown",
   "metadata": {},
   "source": [
    "Vamos a pasar a continuación a ver un ejemplo con la estructura de datos \"DataFrame\". Como ya se ha comentado es una estructura de datos similar a una tabla de una base de datos relacionar, una tabla de excel, etc. y como tal se pueden hacer muchas operaciones como las que se harían con consultas a tablas de bases de datos o en excel.\n",
    "\n",
    "Para construir un DataFrame se puede hacer de diferentes formas, como por ejemplo a partir de una lista, de un diccionario, de una Serie, de otro DataFrame, leyendo una tabla excel, csv, etc. Vamos a ver a continuación como construiríamos un DataFrame con datos de los integrantes de la selección Española de Fútbol:"
   ]
  },
  {
   "cell_type": "code",
   "execution_count": null,
   "metadata": {
    "tags": []
   },
   "outputs": [],
   "source": [
    "selecciónEspañola = pd.DataFrame(\n",
    "    {\n",
    "        'nombre': ['Casillas', 'Ramos', 'Pique', 'Puyol', 'Capdevila', 'Xabi Alonso', 'Busquets', 'Xavi Hernandez',\n",
    "                 'Pedrito', 'Iniesta', 'Villa'],\n",
    "        'posición': ['Portero', 'Lateral Derecho', 'Defensa central', 'Defensa central', 'Lateral Izquierdo', 'Mediocampista defensivo',\n",
    "                        'Mediocampista defensivo', 'Mediocampista', 'Extremo izquierdo', 'Extremo derecho', 'Delantero central'],\n",
    "        'equipo': ['Real Madrid', 'Real Madrid', 'FC Barcelona', 'FC Barcelona', 'Villareal', 'Real Madrid',\n",
    "                 'FC Barcelona', 'FC Barcelona', 'FC Barcelona', 'FC Barcelona', 'FC Barcelona']\n",
    "    }, columns=['nombre', 'posición', 'equipo'], index=[1, 15, 3, 5, 11, 14, 16, 8, 18, 6, 7]\n",
    ")\n",
    "selecciónEspañola\n"
   ]
  },
  {
   "cell_type": "markdown",
   "metadata": {},
   "source": [
    " Como resultado tenemos una estructura de dato similar a la de una tabla de una base de datos relacional o de un documento excel o csv. Con esta estructura de datos se pueden hacer muchas operaciones como las que haríamos en una base de datos o en un documento excel.\n",
    "\n",
    "Por último vamos a ver como insertar un nuevo elemento en este DataFrame, que lo haríamos de la siguiente manera con el método `loc()`: "
   ]
  },
  {
   "cell_type": "code",
   "execution_count": null,
   "metadata": {
    "tags": []
   },
   "outputs": [],
   "source": [
    "# Insertar un nuevo jugador\n",
    "selecciónEspañola.loc[10] = ['Cesc', 'Delantero', 'Arsenal']\n",
    "selecciónEspañola"
   ]
  },
  {
   "cell_type": "code",
   "execution_count": null,
   "metadata": {
    "tags": []
   },
   "outputs": [],
   "source": [
    "# Leer el archivo Income.csv y almacernarlo en un dataframe\n",
    "import pandas as pd\n",
    "df1 = pd.read_csv(\"datos/Income_data.csv\")\n",
    "print(df1)"
   ]
  },
  {
   "cell_type": "code",
   "execution_count": null,
   "metadata": {
    "tags": []
   },
   "outputs": [],
   "source": [
    "# Visualizar el dataframe\n",
    "df1"
   ]
  },
  {
   "cell_type": "markdown",
   "metadata": {},
   "source": [
    "Antes de extraer datos del dataframe, sería una buena práctica asignar una columna con valores únicos como el índice del dataframe. La columna `State` sería una buena opción:"
   ]
  },
  {
   "cell_type": "code",
   "execution_count": null,
   "metadata": {
    "tags": []
   },
   "outputs": [],
   "source": [
    "df3 = df1.set_index('State')\n",
    "df3"
   ]
  },
  {
   "cell_type": "markdown",
   "metadata": {},
   "source": [
    "Ahora, vamos a extraer un subconjunto del dataframe. Aquí está la regla de sintaxis general para subconjunto de porciones de un dataframe:\n",
    "\n",
    "    df3.loc[startrow:endrow,startcolumn:endcolumn]"
   ]
  },
  {
   "cell_type": "markdown",
   "metadata": {},
   "source": [
    "Extraer los valores para las filas desde Alaska hasta Arkansas para los años 2005 a 2007:|"
   ]
  },
  {
   "cell_type": "code",
   "execution_count": null,
   "metadata": {
    "tags": []
   },
   "outputs": [],
   "source": [
    "df3.loc[\"Alaska\":\"Arkansas\",\"2005\":\"2007\"]"
   ]
  },
  {
   "cell_type": "markdown",
   "metadata": {},
   "source": [
    "Extraer una columna:"
   ]
  },
  {
   "cell_type": "code",
   "execution_count": null,
   "metadata": {
    "tags": []
   },
   "outputs": [],
   "source": [
    "df3.loc[: , \"2005\"]"
   ]
  },
  {
   "cell_type": "markdown",
   "metadata": {},
   "source": [
    "Tenga en cuenta que cuando extrae una sola fila o columna, obtiene un objeto unidimensional como salida. Eso se llama una Series en pandas. Los valores de la izquierda son sólo etiquetas tomadas del índice del dataframe. Por otro lado, cuando extrajimos porciones de un pandas dataframe como lo hicimos antes, obtuvimos un tipo bidimensional de objeto DataFrame.\n",
    "\n",
    "Por lo tanto, la fórmula para extraer una columna sigue siendo la misma, pero esta vez no pasamos ningún nombre de índice antes y después del primer *colon*. Eso le dice a Python que incluya todas las filas. Y pasamos sólo un nombre de columna.\n",
    "\n",
    "Para extraer sólo una fila que haría la inversa:"
   ]
  },
  {
   "cell_type": "code",
   "execution_count": null,
   "metadata": {
    "tags": []
   },
   "outputs": [],
   "source": [
    "df3.loc[\"California\", : ]"
   ]
  },
  {
   "cell_type": "markdown",
   "metadata": {},
   "source": [
    "Para extraer una celda:"
   ]
  },
  {
   "cell_type": "code",
   "execution_count": null,
   "metadata": {
    "tags": []
   },
   "outputs": [],
   "source": [
    "df3.loc[\"California\",\"2013\"]"
   ]
  },
  {
   "cell_type": "markdown",
   "metadata": {},
   "source": [
    "Se pueden aplicar métodos a los subconjuntos. Por ejemplo la media de la columna 2005:"
   ]
  },
  {
   "cell_type": "code",
   "execution_count": null,
   "metadata": {
    "tags": []
   },
   "outputs": [],
   "source": [
    "df3.loc[:,\"2005\"].max()"
   ]
  },
  {
   "cell_type": "markdown",
   "metadata": {},
   "source": [
    "### Indexación basada en la posición\n",
    "\n",
    "A veces, no se tienen etiquetas de fila o columna. En tal caso usted tendrá que confiar en indexación basada en la posición, la cual que se implementa con `iloc` en lugar de `loc`"
   ]
  },
  {
   "cell_type": "code",
   "execution_count": null,
   "metadata": {
    "tags": []
   },
   "outputs": [],
   "source": [
    "df3.iloc[0:3,0:4]"
   ]
  },
  {
   "cell_type": "markdown",
   "metadata": {},
   "source": [
    "Tenga en cuenta que cuando se utilizó indexación basada en etiquetas tanto el inicio y el final de las etiquetas se incluyeron en el subconjunto. Con el rebanado basado en posición, sólo se incluye el índice de inicio. Así, en este caso Alabama tenía un índice de 0, Alaska 1, y Arizona 2. Lo mismo ocurre con las columnas.\n"
   ]
  },
  {
   "cell_type": "markdown",
   "metadata": {},
   "source": [
    "### Funciones de análisis de datos Pandas\n",
    "\n",
    "Veamos ahora qué métodos de análisis de datos podemos aplicar a los dataframes de pandas.\n",
    "Por ejemplo, mediante el método 'mean',podemos calcular la media de los valores en las columnas del dataframe."
   ]
  },
  {
   "cell_type": "code",
   "execution_count": null,
   "metadata": {
    "tags": []
   },
   "outputs": [],
   "source": [
    "df3.dtypes"
   ]
  },
  {
   "cell_type": "code",
   "execution_count": null,
   "metadata": {
    "tags": []
   },
   "outputs": [],
   "source": [
    "df3.mean(numeric_only=True)"
   ]
  },
  {
   "cell_type": "markdown",
   "metadata": {},
   "source": [
    "Puede obtener una lista de los métodos disponibles para los dataframe utilizando la función `dir` de Python:"
   ]
  },
  {
   "cell_type": "code",
   "execution_count": null,
   "metadata": {
    "tags": []
   },
   "outputs": [],
   "source": [
    "dir(pd.DataFrame)"
   ]
  },
  {
   "cell_type": "markdown",
   "metadata": {},
   "source": [
    "Y puede obtener la descripción de cada método mediante `help`:"
   ]
  },
  {
   "cell_type": "code",
   "execution_count": null,
   "metadata": {
    "tags": []
   },
   "outputs": [],
   "source": [
    "help(pd.DataFrame.max)"
   ]
  },
  {
   "cell_type": "markdown",
   "metadata": {},
   "source": [
    "También puede aplicar métodos a las columnas del dataframe"
   ]
  },
  {
   "cell_type": "code",
   "execution_count": null,
   "metadata": {
    "tags": []
   },
   "outputs": [],
   "source": [
    "df3.loc[:,\"2005\"].min()"
   ]
  },
  {
   "cell_type": "code",
   "execution_count": null,
   "metadata": {
    "tags": []
   },
   "outputs": [],
   "source": [
    "df3.loc[\"Alabama\",\"2005\":].mean()"
   ]
  },
  {
   "cell_type": "markdown",
   "metadata": {},
   "source": [
    "Tenga en cuenta que en este caso no está aplicando el método de media a un pandas dataframe, sino a un objeto series de pandas:"
   ]
  },
  {
   "cell_type": "code",
   "execution_count": null,
   "metadata": {
    "tags": []
   },
   "outputs": [],
   "source": [
    "type(df3.loc[:,\"2005\"])\n"
   ]
  },
  {
   "cell_type": "markdown",
   "metadata": {},
   "source": [
    "Añadir columnas a un DataFrame es bastante sencillo:"
   ]
  },
  {
   "cell_type": "code",
   "execution_count": null,
   "metadata": {
    "tags": []
   },
   "outputs": [],
   "source": [
    "# Añadir una nueva columna con etiqueta \"2014\" con los valores de la lista\n",
    "df3[\"2014\"] = [4000,6000,4000,4000,6000] \n",
    "df3"
   ]
  },
  {
   "cell_type": "code",
   "execution_count": null,
   "metadata": {
    "tags": []
   },
   "outputs": [],
   "source": [
    "# Anadir una nueva columna con el ingreso medio de cada estado\n",
    "df3[\"Mean\"] = df3.mean(axis=1,numeric_only= True)\n",
    "df3"
   ]
  },
  {
   "cell_type": "markdown",
   "metadata": {},
   "source": [
    "El parámetro `axis` le indica a Python que calcule la media a lo largo del eje 1, que significa a lo largo de las columnas. El eje puesto a 0 iría a lo largo de las filas. Vamos a ver cómo calcular la media de cada año y agregarlos como una nueva fila"
   ]
  },
  {
   "cell_type": "code",
   "execution_count": null,
   "metadata": {
    "tags": []
   },
   "outputs": [],
   "source": [
    "# Añadir nueva fila con el ingreso medio por año\n",
    "df3.loc[\"MEAN\"]=df3.mean(axis=0, numeric_only=True)\n",
    "df3"
   ]
  },
  {
   "cell_type": "code",
   "execution_count": null,
   "metadata": {},
   "outputs": [],
   "source": []
  },
  {
   "cell_type": "code",
   "execution_count": null,
   "metadata": {},
   "outputs": [],
   "source": []
  },
  {
   "cell_type": "code",
   "execution_count": null,
   "metadata": {},
   "outputs": [],
   "source": []
  }
 ],
 "metadata": {
  "anaconda-cloud": {},
  "kernelspec": {
   "display_name": "Python 3 (ipykernel)",
   "language": "python",
   "name": "python3"
  },
  "language_info": {
   "codemirror_mode": {
    "name": "ipython",
    "version": 3
   },
   "file_extension": ".py",
   "mimetype": "text/x-python",
   "name": "python",
   "nbconvert_exporter": "python",
   "pygments_lexer": "ipython3",
   "version": "3.13.5"
  }
 },
 "nbformat": 4,
 "nbformat_minor": 4
}
