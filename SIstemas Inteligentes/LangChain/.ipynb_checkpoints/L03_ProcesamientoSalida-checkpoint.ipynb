{
 "cells": [
  {
   "cell_type": "markdown",
   "id": "f5d850ea-7d9d-4441-a0e0-1a8f1b2f080f",
   "metadata": {},
   "source": [
    "# Procesamiento de datos de Salida Medianta LangChain - Parseo"
   ]
  },
  {
   "cell_type": "markdown",
   "id": "deeb7334-7637-412e-b634-f979f3232812",
   "metadata": {},
   "source": [
    "\n",
    "En LangChain, el **parseo** es el proceso de interpretar y transformar datos de un formato a otro, asegurando que la información sea comprensible y utilizable dentro de un flujo o aplicación. Este concepto es fundamental cuando se trabaja con modelos de lenguaje, ya que los datos de entrada y salida necesitan ser procesados para garantizar coherencia y usabilidad.\n",
    "\n",
    "---\n",
    "\n",
    "## **¿Para qué sirve el parseo en LangChain?**\n",
    "\n",
    "El parseo permite estructurar y manipular los datos generados por los modelos de lenguaje o ingresados por los usuarios. Sirve para:\n",
    "- **Interpretar respuestas:** Extraer información específica de las respuestas del modelo en formatos estructurados (como JSON, tablas, o listas).\n",
    "- **Validar entradas:** Garantizar que los datos ingresados cumplan con el formato esperado antes de ser procesados.\n",
    "- **Preparar datos:** Convertir información compleja en un formato sencillo que el modelo o aplicación pueda entender fácilmente.\n",
    "\n",
    "---\n",
    "\n",
    "## **¿Qué tipo de cosas se pueden hacer mediante el parseo?**\n",
    "\n",
    "LangChain ofrece herramientas para realizar diversas tareas relacionadas con el parseo, entre ellas:\n",
    "- **Extraer información clave:** Identificar y extraer entidades, números, fechas, o cualquier dato específico en una respuesta.\n",
    "- **Transformar formatos:** Convertir texto plano a estructuras como JSON, XML, listas o tablas.\n",
    "- **Dividir texto:** Separar grandes bloques de texto en segmentos más pequeños para su análisis o procesamiento.\n",
    "- **Normalizar datos:** Estandarizar respuestas o entradas para garantizar consistencia en el flujo de trabajo.\n",
    "- **Integrar lógica de negocio:** Interpretar respuestas del modelo y adaptarlas a las necesidades específicas de una aplicación.\n",
    "\n",
    "---\n",
    "\n",
    "## **Aplicaciones del parseo en LangChain**\n",
    "\n",
    "El parseo tiene múltiples aplicaciones prácticas en sistemas impulsados por modelos de lenguaje:\n",
    "1. **Sistemas de preguntas y respuestas:**\n",
    "   - Extraer respuestas específicas de documentos largos.\n",
    "   - Convertir respuestas en listas de puntos clave para una mejor comprensión.\n",
    "\n",
    "2. **Chatbots y asistentes virtuales:**\n",
    "   - Interpretar comandos del usuario y traducirlos en acciones específicas.\n",
    "   - Validar entradas para asegurarse de que estén en un formato esperado (por ejemplo, fechas o ubicaciones).\n",
    "\n",
    "3. **Análisis de texto:**\n",
    "   - Identificar entidades clave como nombres, lugares o valores numéricos.\n",
    "   - Procesar datos generados para alimentar otras herramientas o sistemas.\n",
    "\n",
    "4. **Integración con otros sistemas:**\n",
    "   - Convertir respuestas en formatos compatibles con APIs externas, como JSON o XML.\n",
    "   - Traducir salidas del modelo en datos estructurados para bases de datos o visualización.\n",
    "\n",
    "5. **Automatización de tareas complejas:**\n",
    "   - Procesar y organizar grandes cantidades de texto.\n",
    "   - Estandarizar formatos paita la creación de aplicaciones robustas y precisas.\n"
   ]
  },
  {
   "cell_type": "markdown",
   "id": "ba6160c5-595b-44be-bc01-302e52502761",
   "metadata": {},
   "source": [
    "## Algunos ejemplos de Parseo"
   ]
  },
  {
   "cell_type": "markdown",
   "id": "1aaad61d-98a4-48c8-b075-134b1c5da7f4",
   "metadata": {},
   "source": [
    "#### Inicialmente importamos las librerías requeridas."
   ]
  },
  {
   "cell_type": "code",
   "execution_count": 1,
   "id": "a0a0ed47-de1f-4c85-af88-5ffbd224a138",
   "metadata": {},
   "outputs": [],
   "source": [
    "from langchain.prompts import PromptTemplate, SystemMessagePromptTemplate, HumanMessagePromptTemplate, ChatPromptTemplate\n",
    "from langchain_openai import ChatOpenAI\n",
    "f = open('key/key_prueba.txt')\n",
    "api_key = f.read()\n",
    "chat = ChatOpenAI(openai_api_key=api_key)"
   ]
  },
  {
   "cell_type": "markdown",
   "id": "b6bb33d9-5d1a-4ee4-a8cf-7118d1b0e7eb",
   "metadata": {},
   "source": [
    "\n",
    "Existen varios parseadores predefinidos en LangChain, puede ver el listado en la documentación oficial [aquí](https://python.langchain.com/api_reference/core/output_parsers.html)\r\n",
    "\n"
   ]
  },
  {
   "cell_type": "markdown",
   "id": "732d645e-8538-422c-a415-c6e2c65057d2",
   "metadata": {},
   "source": [
    "### Ejemplo 1: Parsear una lista de elementos separados por comas\n",
    "\n",
    "- En este caso no necesitamos conectar con el LLM. Supongamos que tenemos una entrada de algunos elementos y necesitamos que la convierta a una entrada lista separada por omas."
   ]
  },
  {
   "cell_type": "code",
   "execution_count": 2,
   "id": "9f49b334-9a00-4c41-8e80-7aa23dd3d712",
   "metadata": {},
   "outputs": [],
   "source": [
    "# Creamos una respuesta imaginaria o supuesta obtenida del LLM\n",
    "\n",
    "respuesta = \"automóvil, árbol, carretera\""
   ]
  },
  {
   "cell_type": "markdown",
   "id": "227820df-c900-4d6e-8190-956e6d549915",
   "metadata": {},
   "source": [
    "- Utilizaremos el parseador `CommaSeparatedListOutputParser` para dar fomato requerido"
   ]
  },
  {
   "cell_type": "code",
   "execution_count": 3,
   "id": "83d6fb3e-2f1d-4d50-bd19-ceb74318b83c",
   "metadata": {},
   "outputs": [],
   "source": [
    "from langchain.output_parsers import CommaSeparatedListOutputParser"
   ]
  },
  {
   "cell_type": "code",
   "execution_count": 6,
   "id": "e97c8a8a-bf18-4998-bb5e-d06c57122cab",
   "metadata": {},
   "outputs": [],
   "source": [
    "output_parser = CommaSeparatedListOutputParser()"
   ]
  },
  {
   "cell_type": "code",
   "execution_count": 7,
   "id": "49472138-8e3d-4ad5-b146-aac4840e965b",
   "metadata": {},
   "outputs": [],
   "source": [
    "format_instructions = output_parser.get_format_instructions() # que devuelve las instrucciones que va a pasar al LLM"
   ]
  },
  {
   "cell_type": "code",
   "execution_count": 8,
   "id": "ec745c1b-e79c-4bac-9545-5cf09887f710",
   "metadata": {},
   "outputs": [
    {
     "name": "stdout",
     "output_type": "stream",
     "text": [
      "Your response should be a list of comma separated values, eg: `foo, bar, baz` or `foo,bar,baz`\n"
     ]
    }
   ],
   "source": [
    "print(format_instructions)"
   ]
  },
  {
   "cell_type": "code",
   "execution_count": 10,
   "id": "ce5d02f5-9c10-4085-be39-b5282e42279e",
   "metadata": {},
   "outputs": [
    {
     "data": {
      "text/plain": [
       "['Manzana', 'Banana', 'Pera', 'Mango']"
      ]
     },
     "execution_count": 10,
     "metadata": {},
     "output_type": "execute_result"
    }
   ],
   "source": [
    "# Creamos una respuesta imaginaria o supuesta\n",
    "respuesta = \"Manzana, Banana, Pera, Mango\"\n",
    "output_parser.parse(respuesta)"
   ]
  },
  {
   "cell_type": "markdown",
   "id": "c935660d-19fd-450f-a1b9-acf0a180e61d",
   "metadata": {},
   "source": [
    "### Ejempo 2. Parsear una respuesta obtenida el LLM"
   ]
  },
  {
   "cell_type": "markdown",
   "id": "79f1cd74-05a2-43c0-871e-a59feddb1785",
   "metadata": {},
   "source": [
    "- En este caso vamos a crear una plantilla de usuario (HumanTemplate) con la concatenación de la variable 'request' (la solicitud) y la variable 'format_instructions', con las instrucciones adicionales que pasaremos al LLM. "
   ]
  },
  {
   "cell_type": "code",
   "execution_count": 11,
   "id": "17990641-75f7-4fe6-9283-81e975220efc",
   "metadata": {},
   "outputs": [],
   "source": [
    "human_template = '{request}\\n{format_instructions}'\n",
    "human_prompt = HumanMessagePromptTemplate.from_template(human_template)"
   ]
  },
  {
   "cell_type": "markdown",
   "id": "e0c692e5-8797-4917-a866-3b6d168516a7",
   "metadata": {},
   "source": [
    "- Ahora creamos el prompt sobre la plantilla e instanciamos las variables, asignándoles la cadena de texto con la solicitud y las indicaciones"
   ]
  },
  {
   "cell_type": "code",
   "execution_count": 12,
   "id": "8ad7d7cd-2142-4a0b-86d6-479844331c15",
   "metadata": {},
   "outputs": [
    {
     "data": {
      "text/plain": [
       "ChatPromptValue(messages=[HumanMessage(content='dime 5 características de los automóviles coreanos\\nYour response should be a list of comma separated values, eg: `foo, bar, baz` or `foo,bar,baz`', additional_kwargs={}, response_metadata={})])"
      ]
     },
     "execution_count": 12,
     "metadata": {},
     "output_type": "execute_result"
    }
   ],
   "source": [
    "chat_prompt = ChatPromptTemplate.from_messages([human_prompt])\n",
    "chat_prompt.format_prompt(request = \"dime 5 características de los automóviles coreanos\",\n",
    "                          # Se proporcionan las instrucciones obtenidas del parseador\n",
    "                          format_instructions = output_parser.get_format_instructions())  \n"
   ]
  },
  {
   "cell_type": "markdown",
   "id": "ed46deb4-a088-4aa3-9d0b-7720da402ad3",
   "metadata": {},
   "source": [
    "- Ahora se obtiene a ártir del objeto prompt el texto de la petición y se guarda en 'solicitud_completa' que es la que finalmente se pasará al LLM."
   ]
  },
  {
   "cell_type": "code",
   "execution_count": 13,
   "id": "166f4ba1-9a19-48ca-bbdf-f24591c0c6ba",
   "metadata": {},
   "outputs": [],
   "source": [
    "solicitud_completa = chat_prompt.format_prompt(request = \"dime 5 características de los automóviles coreanos\",\n",
    "                          format_instructions = output_parser.get_format_instructions()).to_messages()"
   ]
  },
  {
   "cell_type": "code",
   "execution_count": 14,
   "id": "fafac8fc-9cc5-4402-9c4e-83e35ab815a6",
   "metadata": {},
   "outputs": [
    {
     "data": {
      "text/plain": [
       "[HumanMessage(content='dime 5 características de los automóviles coreanos\\nYour response should be a list of comma separated values, eg: `foo, bar, baz` or `foo,bar,baz`', additional_kwargs={}, response_metadata={})]"
      ]
     },
     "execution_count": 14,
     "metadata": {},
     "output_type": "execute_result"
    }
   ],
   "source": [
    "solicitud_completa"
   ]
  },
  {
   "cell_type": "code",
   "execution_count": 16,
   "id": "33c9f10f-e5b3-431b-8eb3-403e02803f4f",
   "metadata": {},
   "outputs": [],
   "source": [
    "resultado = chat.invoke(solicitud_completa)"
   ]
  },
  {
   "cell_type": "code",
   "execution_count": 17,
   "id": "e2cafca5-b80c-4c9a-b621-538824d742be",
   "metadata": {},
   "outputs": [
    {
     "data": {
      "text/plain": [
       "'eficiente, moderno, económico, confiable, tecnológico'"
      ]
     },
     "execution_count": 17,
     "metadata": {},
     "output_type": "execute_result"
    }
   ],
   "source": [
    "resultado.content"
   ]
  },
  {
   "cell_type": "markdown",
   "id": "aff6d892-d72e-467e-badc-dc4e27309391",
   "metadata": {},
   "source": [
    "- Para que el formato de salida sea preciso (lista separada por comas) aplicamos el parseador de LangChain"
   ]
  },
  {
   "cell_type": "code",
   "execution_count": 18,
   "id": "3e78c46b-410c-481b-ad92-7288c870620a",
   "metadata": {},
   "outputs": [
    {
     "data": {
      "text/plain": [
       "['eficiente', 'moderno', 'económico', 'confiable', 'tecnológico']"
      ]
     },
     "execution_count": 18,
     "metadata": {},
     "output_type": "execute_result"
    }
   ],
   "source": [
    "output_parser.parse(resultado.content)"
   ]
  },
  {
   "cell_type": "markdown",
   "id": "8edb041a-2d0a-495e-a9e4-344ad2555364",
   "metadata": {},
   "source": [
    "### Ejemplo 3. Parsear datos de fecha"
   ]
  },
  {
   "cell_type": "code",
   "execution_count": 19,
   "id": "c3bd8e14-bfd3-4149-919c-5367a41894f7",
   "metadata": {},
   "outputs": [],
   "source": [
    "from langchain.output_parsers import DatetimeOutputParser"
   ]
  },
  {
   "cell_type": "markdown",
   "id": "8d5bc569-b431-4c35-aef5-f5597c24aa97",
   "metadata": {},
   "source": [
    "- Instanciamos el parceador"
   ]
  },
  {
   "cell_type": "code",
   "execution_count": 20,
   "id": "b205c92a-c481-41ce-b86c-de20d70b8189",
   "metadata": {},
   "outputs": [],
   "source": [
    "output_parser = DatetimeOutputParser()"
   ]
  },
  {
   "cell_type": "markdown",
   "id": "c07f1311-b60b-41bb-851f-71964b32a78c",
   "metadata": {},
   "source": [
    "- Podemos verificar las indicaciones asignadas al parseador para un LLM, si es el caso"
   ]
  },
  {
   "cell_type": "code",
   "execution_count": 21,
   "id": "03860cc6-f711-4f3e-b567-27b928cc200e",
   "metadata": {},
   "outputs": [
    {
     "name": "stdout",
     "output_type": "stream",
     "text": [
      "Write a datetime string that matches the following pattern: '%Y-%m-%dT%H:%M:%S.%fZ'.\n",
      "\n",
      "Examples: 1015-05-14T14:48:16.561024Z, 1910-08-01T06:32:13.033485Z, 1240-05-22T05:59:22.176201Z\n",
      "\n",
      "Return ONLY this string, no other words!\n"
     ]
    }
   ],
   "source": [
    "print(output_parser.get_format_instructions())"
   ]
  },
  {
   "cell_type": "markdown",
   "id": "7a3c920a-15fc-4c18-9d1b-8722e8dab667",
   "metadata": {},
   "source": [
    "- Vamos a crear la plantilla del usuario para asignarle las indicaciones"
   ]
  },
  {
   "cell_type": "code",
   "execution_count": 22,
   "id": "f2750bbe-b2c4-4be7-a5f5-ada19f187076",
   "metadata": {},
   "outputs": [],
   "source": [
    "template_text = \"{request}\\n{format_instructions}\" # Se crea la plantilla\n",
    "human_prompt = HumanMessagePromptTemplate.from_template(template_text) # Se crea la plantilla para el prompt del usuario"
   ]
  },
  {
   "cell_type": "markdown",
   "id": "52a806e4-f198-4fbd-9e67-45f5d3e60143",
   "metadata": {},
   "source": [
    "- Ahora se crea la plantilla de enviar al LLM"
   ]
  },
  {
   "cell_type": "code",
   "execution_count": 23,
   "id": "0091267e-3481-4b1e-9e4a-a5842a28f65b",
   "metadata": {},
   "outputs": [],
   "source": [
    "chat_prompt = ChatPromptTemplate.from_messages([human_prompt])  # Se crea la plantilla de chat lista para enviar al LLM, a partir de la plantilla del usuario"
   ]
  },
  {
   "cell_type": "markdown",
   "id": "aabb7367-48c0-4352-806f-7ef73a5232fd",
   "metadata": {},
   "source": [
    "- Veamos la forma que tomaria la solicitud, una vez asignados los parámetros"
   ]
  },
  {
   "cell_type": "code",
   "execution_count": 24,
   "id": "143cd07b-e19e-445c-8f0b-b0e172c2e000",
   "metadata": {},
   "outputs": [
    {
     "name": "stdout",
     "output_type": "stream",
     "text": [
      "messages=[HumanMessage(content=\"Cuándo es el dia de la declaración de independencia de Colombia\\nWrite a datetime string that matches the following pattern: '%Y-%m-%dT%H:%M:%S.%fZ'.\\n\\nExamples: 1877-03-31T08:27:23.979523Z, 0423-07-18T11:56:15.909452Z, 0004-08-30T19:08:34.660279Z\\n\\nReturn ONLY this string, no other words!\", additional_kwargs={}, response_metadata={})]\n"
     ]
    }
   ],
   "source": [
    "print(chat_prompt.format_prompt(request=\"Cuándo es el dia de la declaración de independencia de Colombia\",\n",
    "                         format_instructions = output_parser.get_format_instructions()))"
   ]
  },
  {
   "cell_type": "markdown",
   "id": "fa75f85e-a2b4-4da2-824a-5e60b29d1f6d",
   "metadata": {},
   "source": [
    "- Asignamos la solicitud a la variable  para enviarsela al LLm"
   ]
  },
  {
   "cell_type": "code",
   "execution_count": 34,
   "id": "298dedd3-9030-4e18-899d-25a1357cacdf",
   "metadata": {},
   "outputs": [],
   "source": [
    "solicitud_completa = chat_prompt.format_prompt(request=\"Cuándo es el dia de la declaración de independencia de Colombia\",\n",
    "                         format_instructions = output_parser.get_format_instructions()).to_messages()"
   ]
  },
  {
   "cell_type": "markdown",
   "id": "c4533e1e-c68a-4b17-bcf7-8d8690a8113e",
   "metadata": {},
   "source": [
    "- Y enviamos la solicitud al LLM, y recogemos la respuesta"
   ]
  },
  {
   "cell_type": "code",
   "execution_count": null,
   "id": "799715b5-ff2b-43f9-b7d4-7a62f463bada",
   "metadata": {},
   "outputs": [],
   "source": []
  },
  {
   "cell_type": "code",
   "execution_count": 36,
   "id": "30bc04be-174b-48c6-9f27-985cebb7d775",
   "metadata": {},
   "outputs": [
    {
     "data": {
      "text/plain": [
       "[HumanMessage(content=\"Cuándo es el dia de la declaración de independencia de Colombia\\nWrite a datetime string that matches the following pattern: '%Y-%m-%dT%H:%M:%S.%fZ'.\\n\\nExamples: 0647-06-12T17:42:13.399033Z, 0847-10-03T02:46:20.385155Z, 1554-11-23T11:47:32.373947Z\\n\\nReturn ONLY this string, no other words!\", additional_kwargs={}, response_metadata={})]"
      ]
     },
     "execution_count": 36,
     "metadata": {},
     "output_type": "execute_result"
    }
   ],
   "source": [
    "solicitud_completa"
   ]
  },
  {
   "cell_type": "code",
   "execution_count": 37,
   "id": "31720747-8bb0-47f2-945b-557e71373813",
   "metadata": {},
   "outputs": [],
   "source": [
    "respuesta = chat.invoke(solicitud_completa)"
   ]
  },
  {
   "cell_type": "code",
   "execution_count": 38,
   "id": "1ddf7df6-8b29-4843-b5c1-3d8e7e627b57",
   "metadata": {},
   "outputs": [
    {
     "data": {
      "text/plain": [
       "'1810-07-20T00:00:00.000000Z'"
      ]
     },
     "execution_count": 38,
     "metadata": {},
     "output_type": "execute_result"
    }
   ],
   "source": [
    "respuesta.content"
   ]
  },
  {
   "cell_type": "markdown",
   "id": "26dc4a49-1c21-43fa-bd37-fc933526f0ad",
   "metadata": {},
   "source": [
    "- ¿Que pasa si volvemos a pasar la respuesta sobre el parseador?"
   ]
  },
  {
   "cell_type": "code",
   "execution_count": 39,
   "id": "43dc2963-ba0b-4f09-bc72-9745854a2400",
   "metadata": {},
   "outputs": [
    {
     "data": {
      "text/plain": [
       "datetime.datetime(1810, 7, 20, 0, 0)"
      ]
     },
     "execution_count": 39,
     "metadata": {},
     "output_type": "execute_result"
    }
   ],
   "source": [
    "output_parser.parse(respuesta.content)"
   ]
  },
  {
   "cell_type": "markdown",
   "id": "c6c856e0-4fe5-46e6-bae5-c2f92ff60ee5",
   "metadata": {},
   "source": [
    "- Devuelve un  objeto que representa la fecha y hora exacta, ya como una estructura que puedes usar para cálculos, comparaciones, o serialización."
   ]
  },
  {
   "cell_type": "markdown",
   "id": "97754f2a-45c9-443b-90f5-6aa491b55e79",
   "metadata": {},
   "source": [
    "## Solución de problemas de Parseo"
   ]
  },
  {
   "cell_type": "markdown",
   "id": "d15d468b-564c-4864-841b-ab3dbfa84fd4",
   "metadata": {},
   "source": [
    "\n",
    "### Auto-Fix Parser en LangChain // Analizador sintáctico de fijación automática\n",
    "\n",
    "El **Auto-Fix Parser** es una utilidad de LangChain diseñada para manejar y corregir automáticamente errores en las respuestas generadas por modelos de lenguaje. Es especialmente útil cuando el modelo debe generar salidas en un formato específico (por ejemplo, JSON) y estas contienen errores o inconsistencias.---\n",
    "\n",
    "#### **¿Qué es el Auto-Fix Parser?**\n",
    "Es una herramienta que:\n",
    "1. **Valida salidas**: Detecta errores en la salida generada por el modelo.\n",
    "2. **Corrige automáticamente**: Solicita al modelo correcciones iterativas hasta obtener un formato válido o alcanzar un límite predefinido.\n",
    "3. **Automatiza flujos**: Evita intervenciones manuales en la validación de respuestas.\n",
    "\n",
    "---\n",
    "\n",
    "### **Casos de Uso**\n",
    "- **Generación de formatos estrictos**: JSON, listas, estructuras numéricas.\n",
    "- **Integración con sistemas externos**: Cuando las respuestas deben cumplir requisitos específicos.\n",
    "- **Entornos de producción**: Aumenta la confiabilidad de pipelines al manejar errores automáticamente.\n",
    "\n",
    "---\n",
    "\n",
    "#### **Características principales**\n",
    "1. **Validación y corrección automática**:\n",
    "   - Solicita al modelo corregir errores detectados.\n",
    "2. **Configuración personalizable**:\n",
    "   - Define formatos esperados o reglas de validación.\n",
    "3. **Iteraciones limitadas**:\n",
    "   - Establece un número máximo de intentos para evitar ciclos infinitos.\n",
    "4. **Integración con LangChain Chains**:\n",
    "   - Funciona dentro de flujos de trabajo estructurados.\n",
    "\n",
    "---\n"
   ]
  },
  {
   "cell_type": "markdown",
   "id": "6e12f17c-fdc9-4224-a7ea-96cf8b8ec8e3",
   "metadata": {},
   "source": [
    "\n",
    "## **Ejemplo práctico**\n",
    "Uso del Auto-Fix Parser para validar y corregir una ept Exception as e:\n",
    "    print(\"Error en el análisis:\", e)\n"
   ]
  },
  {
   "cell_type": "code",
   "execution_count": 40,
   "id": "5d580724-0749-44e7-9622-fb305eb4ed2f",
   "metadata": {},
   "outputs": [],
   "source": [
    "#  Clase para parsear con Auto-Fix, corregir iterativamente hasta obtener la salida esperada\n",
    "from langchain.output_parsers import OutputFixingParser "
   ]
  },
  {
   "cell_type": "code",
   "execution_count": 43,
   "id": "6a5c8825-9812-4e3e-9d18-c1d0512fe2ef",
   "metadata": {},
   "outputs": [
    {
     "data": {
      "text/plain": [
       "'1810-07-20T00:00:00.000000Z'"
      ]
     },
     "execution_count": 43,
     "metadata": {},
     "output_type": "execute_result"
    }
   ],
   "source": [
    "output_parser_dates = DatetimeOutputParser() # instanciamos el parser que queremos\n",
    "misformatted = respuesta.content # obtenemos la respuesta, hipotéticamente incorrecta\n",
    "misformatted"
   ]
  },
  {
   "cell_type": "code",
   "execution_count": 62,
   "id": "a067cdcb-0283-4b42-abc3-2738728e04b3",
   "metadata": {},
   "outputs": [],
   "source": [
    "# Cambiemos la salida por una que sería incorrecta\n",
    "misformatted = '1810|07-20T00:00:00.000000Z'"
   ]
  },
  {
   "cell_type": "code",
   "execution_count": 63,
   "id": "bfd35f60-9aa4-4c0e-970f-9efcc7291ccf",
   "metadata": {},
   "outputs": [],
   "source": [
    "# creamos otro parser iterativo a partir de la fecha y dirigido a mi LLM\n",
    "new_parser = OutputFixingParser.from_llm(parser = output_parser_dates,llm=chat) "
   ]
  },
  {
   "cell_type": "code",
   "execution_count": 64,
   "id": "e74a0ffc-32ab-4b0a-b6ef-94d197868327",
   "metadata": {},
   "outputs": [
    {
     "data": {
      "text/plain": [
       "datetime.datetime(1810, 7, 20, 0, 0)"
      ]
     },
     "execution_count": 64,
     "metadata": {},
     "output_type": "execute_result"
    }
   ],
   "source": [
    "# Se aplica el parseo y vemos la respuesta\n",
    "new_parser.parse(misformatted)  "
   ]
  },
  {
   "cell_type": "markdown",
   "id": "437ebf9c-c235-42b1-b029-cf18df3802e9",
   "metadata": {},
   "source": [
    "### Reforzar el Paseo mediante prompt al sistema"
   ]
  },
  {
   "cell_type": "markdown",
   "id": "d93924e2-2803-40e8-a25a-22d9e684d2c7",
   "metadata": {},
   "source": [
    "- En este caso se añade el System Prompt como un refuerzo para indicar al LLM como queremos la salida"
   ]
  },
  {
   "cell_type": "code",
   "execution_count": 65,
   "id": "473d0059-77a4-4aad-a43a-cda42f9fa57e",
   "metadata": {},
   "outputs": [],
   "source": [
    "system_prompt = SystemMessagePromptTemplate.from_template(\"Tienes que responder únicamente con un patrón de fechas\")\n",
    "human_template = \"{request}\\n{format_instructions}\"  # Para el template del usuario\n",
    "human_prompt = HumanMessagePromptTemplate.from_template(template_text)"
   ]
  },
  {
   "cell_type": "markdown",
   "id": "b966fce6-3643-487d-bba7-075aaefcdf47",
   "metadata": {},
   "source": [
    "- Ahora creamos el template del chat (chat_prompt) con System_Prompt y Human_Prompt\n"
   ]
  },
  {
   "cell_type": "code",
   "execution_count": 66,
   "id": "bf7bdeb3-4510-499f-857b-19f578a44780",
   "metadata": {},
   "outputs": [],
   "source": [
    "chat_prompt = ChatPromptTemplate.from_messages([system_prompt,human_prompt])"
   ]
  },
  {
   "cell_type": "markdown",
   "id": "372b4212-196b-41a1-895d-4d25c830b966",
   "metadata": {},
   "source": [
    "- Hacemos la solicitud"
   ]
  },
  {
   "cell_type": "code",
   "execution_count": 67,
   "id": "ab4af1a1-1e5e-49d6-ac70-9f5096dc39d3",
   "metadata": {},
   "outputs": [],
   "source": [
    "solicitud_completa = chat_prompt.format(request = \"¿Cuándo es el dia de la declaración de la independencia de USA?\",\n",
    "                         format_instructions = output_parser_dates.get_format_instructions()\n",
    "                        )"
   ]
  },
  {
   "cell_type": "code",
   "execution_count": 68,
   "id": "ebc8293e-5d35-4f2f-b2a2-1363037fa4c4",
   "metadata": {},
   "outputs": [
    {
     "data": {
      "text/plain": [
       "\"System: Tienes que responder únicamente con un patrón de fechas\\nHuman: ¿Cuándo es el dia de la declaración de la independencia de USA?\\nWrite a datetime string that matches the following pattern: '%Y-%m-%dT%H:%M:%S.%fZ'.\\n\\nExamples: 1135-06-26T05:05:11.098122Z, 1240-10-27T15:44:30.398026Z, 0157-04-10T12:11:25.095629Z\\n\\nReturn ONLY this string, no other words!\""
      ]
     },
     "execution_count": 68,
     "metadata": {},
     "output_type": "execute_result"
    }
   ],
   "source": [
    "solicitud_completa"
   ]
  },
  {
   "cell_type": "markdown",
   "id": "23d90a05-28d8-42c4-9236-2f229ab604a0",
   "metadata": {},
   "source": [
    "- Y enviamos la solicitud al LLM"
   ]
  },
  {
   "cell_type": "code",
   "execution_count": 69,
   "id": "d9bdd18d-0191-4ea5-90f2-e6719c1d7b19",
   "metadata": {},
   "outputs": [],
   "source": [
    "resultado = chat.invoke(solicitud_completa)"
   ]
  },
  {
   "cell_type": "code",
   "execution_count": 70,
   "id": "5b2f8923-9fdd-4e91-b622-c61998d47827",
   "metadata": {},
   "outputs": [
    {
     "data": {
      "text/plain": [
       "'1776-07-04T00:00:00.000000Z'"
      ]
     },
     "execution_count": 70,
     "metadata": {},
     "output_type": "execute_result"
    }
   ],
   "source": [
    "resultado.content"
   ]
  },
  {
   "cell_type": "code",
   "execution_count": 71,
   "id": "9c9f54da-b50f-4588-87f0-2be9e8cc5d2c",
   "metadata": {},
   "outputs": [
    {
     "data": {
      "text/plain": [
       "datetime.datetime(1776, 7, 4, 0, 0)"
      ]
     },
     "execution_count": 71,
     "metadata": {},
     "output_type": "execute_result"
    }
   ],
   "source": [
    "output_parser_dates.parse(resultado.content)"
   ]
  },
  {
   "cell_type": "markdown",
   "id": "3806f662-faa5-437a-88dd-01ee67b59233",
   "metadata": {},
   "source": [
    "# Serialización de Prompts"
   ]
  },
  {
   "cell_type": "markdown",
   "id": "ec5859a4-afeb-481e-8eda-9950a685b8ce",
   "metadata": {},
   "source": [
    "- Es posible que desees guardar, compartir o cargar objetos de prompts. \n",
    "- Langchain permite guardar fácilmente plantillas de mensajes como archivos JSON para leer o compartir, muy\n",
    "útil cuando hay plantillas complejas que distribuir o reutilizar."
   ]
  },
  {
   "cell_type": "markdown",
   "id": "6970155a-034c-4db0-a350-1f7cc8403b33",
   "metadata": {},
   "source": [
    "### Guardar la plantilla de prompt"
   ]
  },
  {
   "cell_type": "code",
   "execution_count": 72,
   "id": "d6b51c2b-2beb-4a7c-921e-48c935b52b2d",
   "metadata": {},
   "outputs": [],
   "source": [
    "plantilla = \"Pregunta: {pregunta_usuario}\\n\\nRespuesta: Vamos a verlo paso a paso.\"\n",
    "prompt = PromptTemplate(template=plantilla)\n",
    "prompt.save(\"prompt.json\")"
   ]
  },
  {
   "cell_type": "markdown",
   "id": "cf3c6d48-ad6f-414f-a9c0-824f6931fe43",
   "metadata": {},
   "source": [
    "### Abrir plantillas guardadas"
   ]
  },
  {
   "cell_type": "code",
   "execution_count": 73,
   "id": "c7742f71-b9ba-47e3-8537-042b71658ce1",
   "metadata": {},
   "outputs": [],
   "source": [
    "# Cargamos la clase load_prompt\n",
    "\n",
    "from langchain.prompts import load_prompt"
   ]
  },
  {
   "cell_type": "code",
   "execution_count": 74,
   "id": "40d1c1fc-d2ce-4a2d-b38a-c0f6ba9fe6da",
   "metadata": {},
   "outputs": [],
   "source": [
    "prompt_cargado = load_prompt('prompt.json')"
   ]
  },
  {
   "cell_type": "markdown",
   "id": "41b16530-f4bc-4064-9a7f-df94f8b43ab5",
   "metadata": {},
   "source": [
    "- Verificamos"
   ]
  },
  {
   "cell_type": "code",
   "execution_count": 75,
   "id": "9c832718-ffe9-4332-b152-b0472653824b",
   "metadata": {},
   "outputs": [
    {
     "data": {
      "text/plain": [
       "PromptTemplate(input_variables=['pregunta_usuario'], input_types={}, partial_variables={}, template='Pregunta: {pregunta_usuario}\\n\\nRespuesta: Vamos a verlo paso a paso.')"
      ]
     },
     "execution_count": 75,
     "metadata": {},
     "output_type": "execute_result"
    }
   ],
   "source": [
    "prompt_cargado"
   ]
  },
  {
   "cell_type": "code",
   "execution_count": null,
   "id": "a29d1e51-e144-4485-8659-942c5268f851",
   "metadata": {},
   "outputs": [],
   "source": []
  }
 ],
 "metadata": {
  "kernelspec": {
   "display_name": "Python 3 (ipykernel)",
   "language": "python",
   "name": "python3"
  },
  "language_info": {
   "codemirror_mode": {
    "name": "ipython",
    "version": 3
   },
   "file_extension": ".py",
   "mimetype": "text/x-python",
   "name": "python",
   "nbconvert_exporter": "python",
   "pygments_lexer": "ipython3",
   "version": "3.11.9"
  }
 },
 "nbformat": 4,
 "nbformat_minor": 5
}
