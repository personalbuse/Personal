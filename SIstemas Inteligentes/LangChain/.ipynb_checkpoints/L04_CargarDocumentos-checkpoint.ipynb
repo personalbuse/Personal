{
 "cells": [
  {
   "cell_type": "markdown",
   "id": "d3507970-8c99-4105-8517-f592d489d8bb",
   "metadata": {},
   "source": [
    "# Cargadores de documentos en LangChain"
   ]
  },
  {
   "cell_type": "markdown",
   "id": "b339af67-da92-42ad-babb-492be9cfbb0a",
   "metadata": {},
   "source": [
    "\n",
    "LangChain incluye cargadores integrados que permiten leer archivos y convertirlos rápidamente en objetos del tipo `Document`, listos para su procesamiento dentro del flujo de trabajo de la biblioteca.\n",
    "\n",
    "### Objeto `Document` en LangChain\n",
    "\n",
    "El objeto `Document` es una estructura fundamental en LangChain que representa una unidad de texto junto con sus metadatos asociados. \n",
    "\n",
    "- **Contenido principal (`page_content`)**: Texto o información que se desea procesar o analizar.\n",
    "- **Metadatos (`metadata`)**: Información adicional contextual que puede incluir el origen del documento, número de página, etiquetas, etc.\n",
    "\n",
    "Este diseño facilita la manipulación y el seguimiento de fragmentos de texto en flujos de trabajo con modelos de lenguaje, permitiendo almacenar tanto el contenido como datos relevantes que mejoran la gestión y el análisis.\n",
    "\n",
    "---\n",
    "\n",
    "\n",
    "### Características de los cargadores\n",
    "- Permiten cargar documentos desde múltiples formatos como PDF, HTML, TXT, entre otros.\n",
    "- Transforman el contenido en una estructura uniforme que LangChain puede utilizar directamente.\n",
    "\n",
    "### Dependencias externas\n",
    "Muchos cargadores requieren bibliotecas adicionales. Por ejemplo:\n",
    "\n",
    "- Para archivos PDF, se necesita la biblioteca `pypdf`.\n",
    "- Para archivos HTML, se requiere `beautifulsoup4`.\n",
    "\n",
    "Es importante asegurarse de instalar las bibliotecas necesarias antes de usar cada cargador. Si una dependencia falta, LangChain mostrará un mensaje indicando cuál debes instalar.\n",
    "\n",
    "### Documentación oficial\n",
    "Puedes consultar la lista completa de cargadores disponibles en la siguiente dirección:\n",
    "\n",
    "https://python.langchain.com/v0.2/docs/integrations/document_loaders/\n"
   ]
  },
  {
   "cell_type": "markdown",
   "id": "1c92e322-1638-4388-b055-2e478ecadc31",
   "metadata": {},
   "source": [
    "Nota: Es posible que se deba instalar alguna libreria\n",
    "Instalar la librería de langChain Community:\n",
    "- En cmd: pip install langchain-community"
   ]
  },
  {
   "cell_type": "markdown",
   "id": "2eb15397-1a7d-4496-92d2-4b144c7afea0",
   "metadata": {},
   "source": [
    "## Importar librerías e instancia de modelos de chat"
   ]
  },
  {
   "cell_type": "code",
   "execution_count": null,
   "id": "976fe46d-105b-40d3-b910-0d8a8ed66d7b",
   "metadata": {},
   "outputs": [],
   "source": [
    "from langchain.prompts import PromptTemplate, SystemMessagePromptTemplate, ChatPromptTemplate, HumanMessagePromptTemplate\n"
   ]
  },
  {
   "cell_type": "code",
   "execution_count": null,
   "id": "33bcb66f-e557-43d4-bbd4-b798defed090",
   "metadata": {},
   "outputs": [],
   "source": [
    "# importamos las clases para manejar conversaciones con modelos de Ollama\n",
    "from langchain_ollama.chat_models import ChatOllama\n",
    "\n",
    "### Instaciamos un chat con uno de los modelos: llama3.2:3b, mistral:latest, gema3:4b, o los que se hayan instalado en Ollama\n",
    "\n",
    "chat = ChatOllama(model=\"llama3.2:3b\")\n",
    "#chat = ChatOllama(model=\"mistral:latest\")\n",
    "#chat = ChatOllama(model=\"gemma3:4b\")\n"
   ]
  },
  {
   "cell_type": "markdown",
   "id": "b60736ea-f33a-40bd-85e8-b795bbe271cc",
   "metadata": {},
   "source": [
    "## Carga de datos CSV"
   ]
  },
  {
   "cell_type": "markdown",
   "id": "0f302613-a08f-42fe-ae1b-a747c52859a5",
   "metadata": {},
   "source": [
    "\n",
    "CSVLoader es un cargador de documentos en LangChain que permite leer archivos .csv y convertir cada fila (o el archivo completo) en uno o varios objetos Document.\n",
    "\n",
    "#### Características clave:\n",
    "- Lee archivos CSV delimitados por comas u otros caracteres.\n",
    "- Por defecto, cada fila del CSV se convierte en un documento independiente.\n",
    "- Puedes configurar qué columna usar como contenido principal (page_content_column) y cuáles como metadatos.\n",
    "- Útil para datos tabulares: reportes, logs, registros estructurados.\n",
    "\n",
    "El `CSVLoader` de LangChain facilita la integración directa de archivos CSV en flujos de trabajo con modelos de lenguaje, ya que convierte automáticamente cada fila en un documento estructurado con contenido principal y metadatos, lo que simplifica la manipulación, búsqueda y análisis de datos tabulares. Esto permite aprovechar de manera eficiente la información contenida en CSVs para tareas de procesamiento de lenguaje natural, evitando la necesidad de preprocesamientos complejos y garantizando una compatibilidad óptima con las herramientas y componentes del ecosistema LangChain."
   ]
  },
  {
   "cell_type": "code",
   "execution_count": 10,
   "id": "2d53d370-20bf-4777-8d26-92b1fa35f0d7",
   "metadata": {},
   "outputs": [],
   "source": [
    "# pip install langchain-community en una terminal. \n",
    "\n",
    "from langchain.document_loaders import CSVLoader"
   ]
  },
  {
   "cell_type": "code",
   "execution_count": 31,
   "id": "5b5b050c-701c-46ba-9e0b-272ecfb3e627",
   "metadata": {},
   "outputs": [],
   "source": [
    "# cargamos un fichero CSV\n",
    "\n",
    "loader = CSVLoader(\n",
    "    file_path=\"Datos/Datos_Empleados.csv\",\n",
    "    encoding='utf-8',  # probar con 'latin-1' si se ven caracteres raros\n",
    "    )\n"
   ]
  },
  {
   "cell_type": "code",
   "execution_count": 32,
   "id": "07a3b441-140b-4a85-9d7f-7f6c7b6924cc",
   "metadata": {},
   "outputs": [],
   "source": [
    "# Se crea el objeto \"data\" con los datos desde el cargador \"loader\"\n",
    "\n",
    "data = loader.load()"
   ]
  },
  {
   "cell_type": "code",
   "execution_count": 34,
   "id": "d4978be3-3e6f-4d93-a0dd-1d9a42eec1b1",
   "metadata": {},
   "outputs": [],
   "source": [
    "# print(data) # vemos que se ha cargado un documento por cada fila donde el campo page_content contiene los datos"
   ]
  },
  {
   "cell_type": "code",
   "execution_count": 35,
   "id": "ce7a5136-56af-4657-8b24-d586c8aa63c7",
   "metadata": {},
   "outputs": [
    {
     "data": {
      "text/plain": [
       "list"
      ]
     },
     "execution_count": 35,
     "metadata": {},
     "output_type": "execute_result"
    }
   ],
   "source": [
    "type(data)"
   ]
  },
  {
   "cell_type": "code",
   "execution_count": 36,
   "id": "33c68856-3f94-448d-a4b9-18a4bbf87500",
   "metadata": {},
   "outputs": [
    {
     "data": {
      "text/plain": [
       "100"
      ]
     },
     "execution_count": 36,
     "metadata": {},
     "output_type": "execute_result"
    }
   ],
   "source": [
    "len(data)"
   ]
  },
  {
   "cell_type": "code",
   "execution_count": 37,
   "id": "72d8949b-9c75-4b44-b095-12e20d6889bd",
   "metadata": {},
   "outputs": [
    {
     "data": {
      "text/plain": [
       "Document(metadata={'source': 'Datos/Datos_Empleados.csv', 'row': 0}, page_content='Doc: 1344702176\\nNombre: Dwayne\\nApellido: Chapman\\nCargo: Analista\\nProfesion: Ingeniero\\nNivel: Semi-Senior\\nSalario: 37454\\nCiudad: East Sandratown\\nPaís: Iceland\\nTelefono: 071-524-3083')"
      ]
     },
     "execution_count": 37,
     "metadata": {},
     "output_type": "execute_result"
    }
   ],
   "source": [
    "data[0]"
   ]
  },
  {
   "cell_type": "code",
   "execution_count": 38,
   "id": "dd707a3b-5d5c-4ec8-9689-afec5649745b",
   "metadata": {},
   "outputs": [
    {
     "data": {
      "text/plain": [
       "Document(metadata={'source': 'Datos/Datos_Empleados.csv', 'row': 1}, page_content='Doc: 4799197514\\nNombre: Madison\\nApellido: Merritt\\nCargo: Recursos Humanos\\nProfesion: Ingeniero\\nNivel: Senior\\nSalario: 71516\\nCiudad: New Bruce\\nPaís: Venezuela\\nTelefono: +1-511-535-4543x1825')"
      ]
     },
     "execution_count": 38,
     "metadata": {},
     "output_type": "execute_result"
    }
   ],
   "source": [
    "data[1]"
   ]
  },
  {
   "cell_type": "code",
   "execution_count": 18,
   "id": "fbd7ffc6-13aa-484b-ae07-51d552533eb2",
   "metadata": {},
   "outputs": [
    {
     "name": "stdout",
     "output_type": "stream",
     "text": [
      "Doc,Nombre,Apellido,Cargo,Profesion,Nivel,Salario,Ciudad,PaÃ­s,Telefono: 8113304588,Derek,Mccoy,Soporte TÃ©cnico,Abogado,Senior,54075,Thomasport,Tokelau,709-586-4973x4021\n"
     ]
    }
   ],
   "source": [
    "print(data[2].page_content)"
   ]
  },
  {
   "cell_type": "code",
   "execution_count": 40,
   "id": "aa79ff49-9509-4058-9996-279b5023e119",
   "metadata": {},
   "outputs": [
    {
     "name": "stdout",
     "output_type": "stream",
     "text": [
      "{'metadata': {'row': 0, 'source': 'Datos/Datos_Empleados.csv'},\n",
      " 'page_content': 'Doc: 1344702176\\n'\n",
      "                 'Nombre: Dwayne\\n'\n",
      "                 'Apellido: Chapman\\n'\n",
      "                 'Cargo: Analista\\n'\n",
      "                 'Profesion: Ingeniero\\n'\n",
      "                 'Nivel: Semi-Senior\\n'\n",
      "                 'Salario: 37454\\n'\n",
      "                 'Ciudad: East Sandratown\\n'\n",
      "                 'País: Iceland\\n'\n",
      "                 'Telefono: 071-524-3083'}\n",
      "{'metadata': {'row': 1, 'source': 'Datos/Datos_Empleados.csv'},\n",
      " 'page_content': 'Doc: 4799197514\\n'\n",
      "                 'Nombre: Madison\\n'\n",
      "                 'Apellido: Merritt\\n'\n",
      "                 'Cargo: Recursos Humanos\\n'\n",
      "                 'Profesion: Ingeniero\\n'\n",
      "                 'Nivel: Senior\\n'\n",
      "                 'Salario: 71516\\n'\n",
      "                 'Ciudad: New Bruce\\n'\n",
      "                 'País: Venezuela\\n'\n",
      "                 'Telefono: +1-511-535-4543x1825'}\n",
      "{'metadata': {'row': 2, 'source': 'Datos/Datos_Empleados.csv'},\n",
      " 'page_content': 'Doc: 8113304588\\n'\n",
      "                 'Nombre: Derek\\n'\n",
      "                 'Apellido: Mccoy\\n'\n",
      "                 'Cargo: Soporte Técnico\\n'\n",
      "                 'Profesion: Abogado\\n'\n",
      "                 'Nivel: Senior\\n'\n",
      "                 'Salario: 54075\\n'\n",
      "                 'Ciudad: Thomasport\\n'\n",
      "                 'País: Tokelau\\n'\n",
      "                 'Telefono: 709-586-4973x4021'}\n"
     ]
    }
   ],
   "source": [
    "# imprimir estructuras complejas en forma organizada\n",
    "from pprint import pprint\n",
    "\n",
    "n = 3 # visualizar los tres primeros documentos (filas)\n",
    "for doc in data[:n]:\n",
    "    pprint({\n",
    "        \"page_content\": doc.page_content,\n",
    "        \"metadata\": doc.metadata\n",
    "    })\n"
   ]
  },
  {
   "cell_type": "markdown",
   "id": "0ceb3631-62ba-4733-bb19-b897bac7ecfc",
   "metadata": {},
   "source": [
    "## Cargador de datos HTML"
   ]
  },
  {
   "cell_type": "code",
   "execution_count": 43,
   "id": "388dfb17-ce02-4ccf-ba74-e14abed29e26",
   "metadata": {},
   "outputs": [],
   "source": [
    "# pip install beautifulsoup4\n",
    "# pip install lxml  # Parser de respaldo\n",
    "\n",
    "from langchain.document_loaders import BSHTMLLoader "
   ]
  },
  {
   "cell_type": "code",
   "execution_count": 53,
   "id": "2c9b4777-a775-46fd-86ae-11dfb699b3d4",
   "metadata": {},
   "outputs": [],
   "source": [
    "loader = BSHTMLLoader('Datos/IngenieriaSistemasUP.html')\n"
   ]
  },
  {
   "cell_type": "code",
   "execution_count": 54,
   "id": "3a0c7558-da44-4b54-bb74-83d9a4548950",
   "metadata": {},
   "outputs": [],
   "source": [
    "data = loader.load()"
   ]
  },
  {
   "cell_type": "code",
   "execution_count": 55,
   "id": "4548ad55-8022-4f92-9da6-013569988d98",
   "metadata": {},
   "outputs": [
    {
     "data": {
      "text/plain": [
       "1"
      ]
     },
     "execution_count": 55,
     "metadata": {},
     "output_type": "execute_result"
    }
   ],
   "source": [
    "len(data)"
   ]
  },
  {
   "cell_type": "code",
   "execution_count": 56,
   "id": "0f76e990-7cee-4c57-b368-71d8be6cd745",
   "metadata": {},
   "outputs": [
    {
     "data": {
      "text/plain": [
       "[Document(metadata={'source': 'Datos/IngenieriaSistemasUP.html', 'title': 'Ingenieria de Sistemas - Unipamplona - Semillero de Investigación en Ingeniería de Sistemas - SIIS'}, page_content='\\n\\nIngenieria de Sistemas - Unipamplona - Semillero de Investigación en Ingeniería de Sistemas - SIIS\\n\\n\\n\\n\\n\\n\\n\\n\\n\\n\\n\\nIngeniería de Sistemas\\xa0Pamplona - Villa del Rosario\\n\\n\\n\\n\\nInicio\\nCorreo\\nTransacciones\\n\\n\\n\\n\\n\\n\\n\\n\\n\\nInstitucional\\n\\nPrograma \\nProfesorado\\nInvestigación \\nTrabajo Social\\nTrabajos de Grado\\nEgresados\\nAcreditación\\nActividades\\n\\nDocumentos\\n\\n\\n\\nNormatividad Académica\\nSIG - Gestión Académica\\n\\nOtros Enlaces\\n\\nAsociaciones\\nRevistas Científicas\\nImagen Institucional\\nRepositorio\\nContactos\\n\\n\\n\\n\\n\\nSemillero de Investigación en Ingeniería de Sistemas - SIIS\\nLíneas de investigación\\n \\n\\nCiencias      Computacionales\\nIngeniería      del Software\\nTecnologías      de la Información\\nSistemas de información\\n\\n  \\nMisión\\nDesarrollar competencias investigativas en el área de ingeniería de sistemas a través del estudio de metodologías de investigación y la estructura del sistema de ciencia y tecnología de Colombia.\\nVisión\\nConsolidar el semillero de investigación en ingeniería de sistemas de la Universidad de Pamplona como un grupo dinámico que haga de la investigación aplicada una práctica común en pro de la generación de bienestar.\\n\\nObjetivos\\nObjetivo General\\nDesarrollar competencias investigativas en los estudiantes del semillero.\\nObjetivos Específicos\\n\\n\\n\\n\\nFormar una masa crítica potencial de investigadores para la región y el país.\\nFamiliarizar al estudiante con los formatos de proyectos de investigación de la Universidad y de Colciencias.\\n Apropiar técnicas de escritura científica de artículos y proyectos de investigación.\\n Aplicar los conocimientos científicos al contexto social\\n\\n\\n\\n\\n \\n\\nEstrategias y Actividades Básicas del Semillero\\nEstrategias\\n \\n\\nDesarrollar      proyectos de aula que posibiliten la aplicación del método científico.\\nSensibilizar      a los estudiantes en el conocimiento del Sistema Nacional de Ciencia y      Tecnología.\\nDivulgar      los resultados o avances de los proyectos de investigación formativa.\\n\\n \\nActividades\\n \\n\\nParticipación      en convocatorias de semilleros de investigación.\\nParticipación      en eventos organizados por la Vicerrectoría de Investigaciones para los      semilleros.\\nParticipación      en reuniones periódicas de seguimiento.\\nParticipación      en redes de semilleros de investigación.\\nCapacitación      en herramientas TIC para la investigación y en bases de datos científicas.\\n\\n \\nCronograma Semestral de Actividades del Semillero\\n\\n\\n \\nSocialización      del semillero, líneas, tutores y proyectos de investigación.\\nFormulación      de propuestas de investigación y actualización de datos del semillero.\\nCharlas      de capacitación por docentes invitados y tutores.\\nSocialización      de resultados de avances de cada proyecto.\\n   \\n\\n\\n\\n\\n\\nDatos de Coordinador y Director\\nDirector\\nNombre: William Mauricio Rojas Contreras\\nCargo: Director\\nGrupo de investigación: Ciencias Computacionales\\nNivel de formación: Doctorado\\nCorreo electrónico: mrojas@unipamplona.edu.co\\nNúmero de contacto: 3157853485\\n\\xa0\\nCoordinador\\nNombre: José Orlando Maldonado Bautista\\nCargo: Coordinador\\nDepartamento: EEST\\nNivel de formación: Doctorado\\nCorreo electrónico: orlmaldonado@unipamplona.edu.co\\nNúmero de contacto: 3138045544\\n\\nFecha de inscripción del Semillero: 28 de Noviembre del 2017\\nFecha de actualización del Semillero: 28 de Noviembre del 2024\\n\\n\\n\\n\\n\\n Tweet\\n\\n\\n\\n\\n\\n\\n \\n\\n\\n\\n\\nIngeniería de Sistemas\\nSede Principal Pamplona: dsistemas@unipamplona.edu.co - Edificio Ramón González Valencia (RG) - Primer piso\\nExtensión Villa del Rosario: dsistemasvilla@unipamplona.edu.co - Edificio Los Patios, oficina 202\\n\\n\\n\\n\\n\\n\\n\\n\\n')]"
      ]
     },
     "execution_count": 56,
     "metadata": {},
     "output_type": "execute_result"
    }
   ],
   "source": [
    "data"
   ]
  },
  {
   "cell_type": "code",
   "execution_count": 57,
   "id": "0992c39e-55be-41bd-b81d-d762d9b33ac7",
   "metadata": {},
   "outputs": [
    {
     "name": "stdout",
     "output_type": "stream",
     "text": [
      "\n",
      "\n",
      "Ingenieria de Sistemas - Unipamplona - Semillero de Investigación en Ingeniería de Sistemas - SIIS\n",
      "\n",
      "\n",
      "\n",
      "\n",
      "\n",
      "\n",
      "\n",
      "\n",
      "\n",
      "\n",
      "\n",
      "Ingeniería de Sistemas Pamplona - Villa del Rosario\n",
      "\n",
      "\n",
      "\n",
      "\n",
      "Inicio\n",
      "Correo\n",
      "Transacciones\n",
      "\n",
      "\n",
      "\n",
      "\n",
      "\n",
      "\n",
      "\n",
      "\n",
      "\n",
      "Institucional\n",
      "\n",
      "Programa \n",
      "Profesorado\n",
      "Investigación \n",
      "Trabajo Social\n",
      "Trabajos de Grado\n",
      "Egresados\n",
      "Acreditación\n",
      "Actividades\n",
      "\n",
      "Documentos\n",
      "\n",
      "\n",
      "\n",
      "Normatividad Académica\n",
      "SIG - Gestión Académica\n",
      "\n",
      "Otros Enlaces\n",
      "\n",
      "Asociaciones\n",
      "Revistas Científicas\n",
      "Imagen Institucional\n",
      "Repositorio\n",
      "Contactos\n",
      "\n",
      "\n",
      "\n",
      "\n",
      "\n",
      "Semillero de Investigación en Ingeniería de Sistemas - SIIS\n",
      "Líneas de investigación\n",
      " \n",
      "\n",
      "Ciencias      Computacionales\n",
      "Ingeniería      del Software\n",
      "Tecnologías      de la Información\n",
      "Sistemas de información\n",
      "\n",
      "  \n",
      "Misión\n",
      "Desarrollar competencias investigativas en el área de ingeniería de sistemas a través del estudio de metodologías de investigación y la estructura del sistema de ciencia y tecnología de Colombia.\n",
      "Visión\n",
      "Consolidar el semillero de investigación en ingeniería de sistemas de la Universidad de Pamplona como un grupo dinámico que haga de la investigación aplicada una práctica común en pro de la generación de bienestar.\n",
      "\n",
      "Objetivos\n",
      "Objetivo General\n",
      "Desarrollar competencias investigativas en los estudiantes del semillero.\n",
      "Objetivos Específicos\n",
      "\n",
      "\n",
      "\n",
      "\n",
      "Formar una masa crítica potencial de investigadores para la región y el país.\n",
      "Familiarizar al estudiante con los formatos de proyectos de investigación de la Universidad y de Colciencias.\n",
      " Apropiar técnicas de escritura científica de artículos y proyectos de investigación.\n",
      " Aplicar los conocimientos científicos al contexto social\n",
      "\n",
      "\n",
      "\n",
      "\n",
      " \n",
      "\n",
      "Estrategias y Actividades Básicas del Semillero\n",
      "Estrategias\n",
      " \n",
      "\n",
      "Desarrollar      proyectos de aula que posibiliten la aplicación del método científico.\n",
      "Sensibilizar      a los estudiantes en el conocimiento del Sistema Nacional de Ciencia y      Tecnología.\n",
      "Divulgar      los resultados o avances de los proyectos de investigación formativa.\n",
      "\n",
      " \n",
      "Actividades\n",
      " \n",
      "\n",
      "Participación      en convocatorias de semilleros de investigación.\n",
      "Participación      en eventos organizados por la Vicerrectoría de Investigaciones para los      semilleros.\n",
      "Participación      en reuniones periódicas de seguimiento.\n",
      "Participación      en redes de semilleros de investigación.\n",
      "Capacitación      en herramientas TIC para la investigación y en bases de datos científicas.\n",
      "\n",
      " \n",
      "Cronograma Semestral de Actividades del Semillero\n",
      "\n",
      "\n",
      " \n",
      "Socialización      del semillero, líneas, tutores y proyectos de investigación.\n",
      "Formulación      de propuestas de investigación y actualización de datos del semillero.\n",
      "Charlas      de capacitación por docentes invitados y tutores.\n",
      "Socialización      de resultados de avances de cada proyecto.\n",
      "   \n",
      "\n",
      "\n",
      "\n",
      "\n",
      "\n",
      "Datos de Coordinador y Director\n",
      "Director\n",
      "Nombre: William Mauricio Rojas Contreras\n",
      "Cargo: Director\n",
      "Grupo de investigación: Ciencias Computacionales\n",
      "Nivel de formación: Doctorado\n",
      "Correo electrónico: mrojas@unipamplona.edu.co\n",
      "Número de contacto: 3157853485\n",
      " \n",
      "Coordinador\n",
      "Nombre: José Orlando Maldonado Bautista\n",
      "Cargo: Coordinador\n",
      "Departamento: EEST\n",
      "Nivel de formación: Doctorado\n",
      "Correo electrónico: orlmaldonado@unipamplona.edu.co\n",
      "Número de contacto: 3138045544\n",
      "\n",
      "Fecha de inscripción del Semillero: 28 de Noviembre del 2017\n",
      "Fecha de actualización del Semillero: 28 de Noviembre del 2024\n",
      "\n",
      "\n",
      "\n",
      "\n",
      "\n",
      " Tweet\n",
      "\n",
      "\n",
      "\n",
      "\n",
      "\n",
      "\n",
      " \n",
      "\n",
      "\n",
      "\n",
      "\n",
      "Ingeniería de Sistemas\n",
      "Sede Principal Pamplona: dsistemas@unipamplona.edu.co - Edificio Ramón González Valencia (RG) - Primer piso\n",
      "Extensión Villa del Rosario: dsistemasvilla@unipamplona.edu.co - Edificio Los Patios, oficina 202\n",
      "\n",
      "\n",
      "\n",
      "\n",
      "\n",
      "\n",
      "\n",
      "\n",
      "\n"
     ]
    }
   ],
   "source": [
    "print(data[0].page_content)\n",
    "#print(data[0].metadata)"
   ]
  },
  {
   "cell_type": "markdown",
   "id": "92042f04-6890-4243-9f49-66a0091fff1a",
   "metadata": {},
   "source": [
    "## Cargar contenidos de una URL en linea"
   ]
  },
  {
   "cell_type": "code",
   "execution_count": 63,
   "id": "6dafafb3-f0ff-4e1b-a3d1-ac6f060e9982",
   "metadata": {},
   "outputs": [],
   "source": [
    "from langchain_community.document_loaders import WebBaseLoader\n",
    "\n",
    "#loader = WebBaseLoader(\"https://www.unipamplona.edu.co\")\n",
    "\n",
    "# opcionar para simular el browser de conexion\n",
    "\n",
    "loader = WebBaseLoader(\n",
    "    web_paths=[\"https://www.unipamplona.edu.co\"],\n",
    "    header_template={\"User-Agent\": \"Mozilla/5.0 (compatible; MyBot/1.0)\"}\n",
    ")\n",
    "\n",
    "data = loader.load()\n"
   ]
  },
  {
   "cell_type": "code",
   "execution_count": 64,
   "id": "dcf497bd-edd2-423a-b6e3-4d6df286751e",
   "metadata": {},
   "outputs": [
    {
     "name": "stdout",
     "output_type": "stream",
     "text": [
      "{'source': 'https://www.unipamplona.edu.co', 'title': 'Universidad de Pamplona', 'description': 'Sitio Oficial de la Universidad de Pamplona, Norte de Santander, Colombia', 'language': 'es'}\n"
     ]
    }
   ],
   "source": [
    "#print(data[0].page_content)\n",
    "print(data[0].metadata)"
   ]
  },
  {
   "cell_type": "markdown",
   "id": "27e9376d-af3b-4279-807f-8a77ab736ade",
   "metadata": {},
   "source": [
    "## Carga de datos en PDF"
   ]
  },
  {
   "cell_type": "code",
   "execution_count": 71,
   "id": "ecc68095-0505-41dc-99c7-b3360192c884",
   "metadata": {},
   "outputs": [],
   "source": [
    "# pip install pypdf en una terminal\n",
    "\n",
    "from langchain.document_loaders import PyPDFLoader "
   ]
  },
  {
   "cell_type": "code",
   "execution_count": 72,
   "id": "7320c5a1-776a-460b-ab87-7ad2d77f90ea",
   "metadata": {},
   "outputs": [],
   "source": [
    "loader = PyPDFLoader('Datos/TendenciasTecnologicas2025.pdf')"
   ]
  },
  {
   "cell_type": "code",
   "execution_count": 85,
   "id": "aa470547-8dc7-4474-9e34-998bf8db0a00",
   "metadata": {},
   "outputs": [
    {
     "name": "stderr",
     "output_type": "stream",
     "text": [
      "Overwriting cache for 0 802\n"
     ]
    }
   ],
   "source": [
    "# Una paguna un documento\n",
    "pages = loader.load()\n",
    "\n",
    "# opcional: Divide de acuerdo al parámetro CharacterTextSplitter\n",
    "#pages = loader.load_and_split()\n"
   ]
  },
  {
   "cell_type": "code",
   "execution_count": 86,
   "id": "ee1b19ba-e239-473d-98d3-65788534fc7d",
   "metadata": {},
   "outputs": [
    {
     "data": {
      "text/plain": [
       "list"
      ]
     },
     "execution_count": 86,
     "metadata": {},
     "output_type": "execute_result"
    }
   ],
   "source": [
    "type(pages)"
   ]
  },
  {
   "cell_type": "code",
   "execution_count": 87,
   "id": "f4ac3d2d-f650-40cf-a2ca-f87fe801055c",
   "metadata": {},
   "outputs": [
    {
     "data": {
      "text/plain": [
       "5"
      ]
     },
     "execution_count": 87,
     "metadata": {},
     "output_type": "execute_result"
    }
   ],
   "source": [
    "len(pages)"
   ]
  },
  {
   "cell_type": "code",
   "execution_count": 88,
   "id": "3ad7819a-3abe-4cb8-a15f-87daf9d9d346",
   "metadata": {},
   "outputs": [
    {
     "data": {
      "text/plain": [
       "Document(metadata={'producer': 'Microsoft® Word for Microsoft 365', 'creator': 'Microsoft® Word for Microsoft 365', 'creationdate': '2024-11-28T09:25:20+01:00', 'msip_label_8e19d756-792e-42a1-bcad-4cb9051ddd2d_enabled': 'true', 'msip_label_8e19d756-792e-42a1-bcad-4cb9051ddd2d_setdate': '2024-09-10T15:55:11Z', 'msip_label_8e19d756-792e-42a1-bcad-4cb9051ddd2d_method': 'Standard', 'msip_label_8e19d756-792e-42a1-bcad-4cb9051ddd2d_name': 'Confidential', 'msip_label_8e19d756-792e-42a1-bcad-4cb9051ddd2d_siteid': '41eb501a-f671-4ce0-a5bf-b64168c3705f', 'msip_label_8e19d756-792e-42a1-bcad-4cb9051ddd2d_actionid': '3392ec8e-7e55-48d2-b2dd-59bfea7a42ef', 'msip_label_8e19d756-792e-42a1-bcad-4cb9051ddd2d_contentbits': '2', 'title': 'Press Release Template', 'author': 'Capgemini', 'moddate': '2024-11-28T09:25:20+01:00', 'source': 'Datos/TendenciasTecnologicas2025.pdf', 'total_pages': 5, 'page': 0, 'page_label': '1'}, page_content='Nota de Prensa \\nPrensa Capgemini  \\nLuis Antón / Ángeles García Molero  \\nTel: +34 91 657 70 00  \\n                                                                                         \\nMiriam Sarralde / Jorge Majada \\nTel: +34 696 005 743 / +34 648 96 31 67  \\nEmail: miriam.sarralde@trescom.es \\njorge.majada@trescom.es \\n \\n \\nTechnoVision: Las 5 tendencias tecnológicas que habrá que seguir en 2025 \\n \\n \\nMadrid, 28 de noviembre de 2024 – Capgemini ha presentado hoy su “TechnoVision: Las 5 \\ntendencias tecnológicas a tener en cuenta en  2025”, centrado en las tecnologías que se espera \\nque alcancen un punto de inflexión el próximo año. El enfoque en la IA y la IA Generativa (Gen \\nIA) es compartido tanto por ejecutivos de todo el mundo como por los profesionales de capital \\nriesgo que fueron entrevistados en una encuesta global que se publicará en  la feria Consumer \\nElectronics Show (CES) en enero de 2025. Se espera, también, que haya un impacto significativo \\nde otras tecnologías clave que probablemente alcancen una fase de madurez o avance en 2025. \\n \\n“El año pasado, las 5 tendencias tecnológicas más importantes de Capgemini  predijeron la aparición de \\nmodelos lingüísticos de IA de menor generación y agentes de IA, que se han hecho realidad. También \\nseñalamos la importancia de la criptografía post -cuántica, confirmada por la publicación de las normas del \\nInstituto Nacional de Estándares y Tecnología el pasado verano. Y, como anticipamos, los semiconductores \\nhan estado en boga en 2024, con una evolución significativa impulsada por el uso masivo de la IA e IA \\nGenerativa, así como los cambios en la dinámica del mercado”, explica Pascal Brier, Director de Innovación \\nde Capgemini y Miembro del Comité Ejecutivo del Grupo. “De cara a 2025, vemos que la IA y la IA Generativa \\ntendrán un gran impacto en las prioridades de las empresas y también en muchos dominios tecnológicos \\nadyacentes, como la robótica, las cadenas de suministro o el mix energético del mañana”. \\n \\nTecnologías a seguir en 2025: \\n \\n1) IA Generativa: de copilotos a agentes de IA con capacidad para razonar \\nLa IA Generativa está entrando ahora en los inicios del proceso de identificación de agentes  donde los \\nsistemas de IA están evolucionando de tareas aisladas a agentes especializados e interconectados. De \\nhecho, según una encuesta del Instituto de Investigación de Capgemini realizada a 1.500 altos ejecutivos \\nde todo el mundo y que se publicará en enero de 2025, el 32% de ellos sitúa a los agentes de IA como \\nla principal tendencia tecnológica en datos e IA para 2025 1. Gracias a las crecientes capacidades de \\nrazonamiento lógico de los modelos de Gen IA, estos empezarán a funcionar de forma más autónoma, \\nal tiempo que proporcionarán resultados más fiables y basados en pruebas, y podrán gestionar tareas \\ncomo las cadenas de suministro y el mantenimiento predictivo sin supervisión humana constante. Los \\nsistemas de IA pueden tomar decisiones dinámicas en entornos más delicados en los que la exactitud \\nes primordial. El siguiente paso será la aparición de un superagente, un coordinador de múltiples \\nsistemas de IA  que optimizará sus interacciones. En 2025,  estos avances harán posibles nuevos \\necosistemas de IA en todos los sectores, permitiendo nuevos niveles de eficiencia e innovación. \\n \\n \\n1 Instituto de Investigación de Capgemini, informe “5 tendencias tecnológicas que habrá que seguir en 2025 ”, que se publicará en enero \\nde 2025. Encuesta a 1.500 altos ejecutivos y 500 inversores en 15 países de Europa, América y Asia -Pacífico en septiembre -octubre de \\n2024.')"
      ]
     },
     "execution_count": 88,
     "metadata": {},
     "output_type": "execute_result"
    }
   ],
   "source": [
    "pages[0]"
   ]
  },
  {
   "cell_type": "code",
   "execution_count": 89,
   "id": "01384fd4-5e4c-41b5-94d0-913119625639",
   "metadata": {
    "scrolled": true
   },
   "outputs": [
    {
     "name": "stdout",
     "output_type": "stream",
     "text": [
      "{'producer': 'Microsoft® Word for Microsoft 365', 'creator': 'Microsoft® Word for Microsoft 365', 'creationdate': '2024-11-28T09:25:20+01:00', 'msip_label_8e19d756-792e-42a1-bcad-4cb9051ddd2d_enabled': 'true', 'msip_label_8e19d756-792e-42a1-bcad-4cb9051ddd2d_setdate': '2024-09-10T15:55:11Z', 'msip_label_8e19d756-792e-42a1-bcad-4cb9051ddd2d_method': 'Standard', 'msip_label_8e19d756-792e-42a1-bcad-4cb9051ddd2d_name': 'Confidential', 'msip_label_8e19d756-792e-42a1-bcad-4cb9051ddd2d_siteid': '41eb501a-f671-4ce0-a5bf-b64168c3705f', 'msip_label_8e19d756-792e-42a1-bcad-4cb9051ddd2d_actionid': '3392ec8e-7e55-48d2-b2dd-59bfea7a42ef', 'msip_label_8e19d756-792e-42a1-bcad-4cb9051ddd2d_contentbits': '2', 'title': 'Press Release Template', 'author': 'Capgemini', 'moddate': '2024-11-28T09:25:20+01:00', 'source': 'Datos/TendenciasTecnologicas2025.pdf', 'total_pages': 5, 'page': 0, 'page_label': '1'}\n"
     ]
    }
   ],
   "source": [
    "print(pages[0].metadata)"
   ]
  },
  {
   "cell_type": "markdown",
   "id": "50b1ecfe-e4f8-4bfb-bbfc-787b68f53ff7",
   "metadata": {},
   "source": [
    "## Caso de uso: Resumir PDF's"
   ]
  },
  {
   "cell_type": "code",
   "execution_count": 90,
   "id": "2db204d6-87ed-4d17-95ad-110000ed94e9",
   "metadata": {},
   "outputs": [],
   "source": [
    "contenido_pdf = pages[0].page_content"
   ]
  },
  {
   "cell_type": "code",
   "execution_count": 91,
   "id": "38b1f2c3-18c4-403b-bb5e-cc83b0f2ab24",
   "metadata": {},
   "outputs": [],
   "source": [
    "human_template = '\"Necesito que hagas un resumen del siguiente texto en 500 caracteres: \\n{contenido}\"'\n",
    "human_prompt = HumanMessagePromptTemplate.from_template(human_template)"
   ]
  },
  {
   "cell_type": "code",
   "execution_count": 92,
   "id": "09839923-3aee-45d9-8249-8e70b49f1da7",
   "metadata": {},
   "outputs": [],
   "source": [
    "chat_prompt = ChatPromptTemplate.from_messages([human_prompt])\n",
    "##chat_prompt.format_prompt(contenido = contenido_pdf)"
   ]
  },
  {
   "cell_type": "code",
   "execution_count": 93,
   "id": "f4d77d5d-f93b-4ff7-8027-2935645fd08b",
   "metadata": {},
   "outputs": [],
   "source": [
    "solicitud = chat_prompt.format_prompt(contenido = contenido_pdf).to_messages()"
   ]
  },
  {
   "cell_type": "code",
   "execution_count": 94,
   "id": "bb0709ad-7831-468c-ae16-c9e1efbe6d37",
   "metadata": {},
   "outputs": [],
   "source": [
    "#solicitud"
   ]
  },
  {
   "cell_type": "code",
   "execution_count": 95,
   "id": "7fc61e4e-4dbb-4cef-be01-5ce52af263d0",
   "metadata": {},
   "outputs": [],
   "source": [
    "result = chat.invoke(solicitud)"
   ]
  },
  {
   "cell_type": "code",
   "execution_count": 96,
   "id": "382f0f42-eda0-4a41-bbd0-c2211756402f",
   "metadata": {},
   "outputs": [
    {
     "data": {
      "text/plain": [
       "'\"A continuación, te presentamos las 5 tendencias tecnológicas que se espera que alcancen un punto de inflexión en 2025, según Capgemini:\\n\\n*   IA Generativa: La inteligencia artificial generativa (Gen IA) estará evolucionando para convertirse en agentes de IA con capacidad para razonar, lo que permitirá a los sistemas de IA tomar decisiones dinámicas y gestionar tareas sin supervisión humana constante.\\n*   Robótica: La robótica seguirá creciendo y se convertirá en una tecnología clave en varios sectores, como la industria manufacturera y el servicio al cliente. \\n*   Criptografía post-cuántica: La criptografía post-cuántica seguirá siendo un tema importante, ya que las normas del Instituto Nacional de Estándares y Tecnología confirmaron su importancia en el verano pasado.\\n*   Semiconductores: Los semiconductores seguirán evolucionando y seguirán impulsados por la IA e IA Generativa, así como por los cambios en la dinámica del mercado. \\n*   Cadenas de suministro inteligentes: La tecnología de cadena de suministro inteligente seguirá mejorando, permitiendo a las empresas optimizar sus procesos y reducir costos.\"'"
      ]
     },
     "execution_count": 96,
     "metadata": {},
     "output_type": "execute_result"
    }
   ],
   "source": [
    "result.content"
   ]
  },
  {
   "cell_type": "markdown",
   "id": "618ed210-279f-4f89-a459-4da3df6877c5",
   "metadata": {},
   "source": [
    "### Resumen del documento completo"
   ]
  },
  {
   "cell_type": "markdown",
   "id": "af792ab8-0093-4de8-a6c3-256a1b15c554",
   "metadata": {},
   "source": [
    "- Si queremos resumir el documento completo, Creamos un string concatendando el contenido de todas las páginas:"
   ]
  },
  {
   "cell_type": "code",
   "execution_count": 97,
   "id": "f1e42334-fd06-4921-898c-aee67ad94ebc",
   "metadata": {
    "scrolled": true
   },
   "outputs": [],
   "source": [
    "\n",
    "documento_completo = \"\"\n",
    "for page in pages:\n",
    "    documento_completo += page.page_content\n",
    "\n",
    "#print(documento_completo)"
   ]
  },
  {
   "cell_type": "code",
   "execution_count": 108,
   "id": "580af215-f5d2-4804-8884-82d22c3e40fa",
   "metadata": {},
   "outputs": [],
   "source": [
    "human_template = '\"Realizar un resumen del texto dado a continuación. Importante!!: El texto generado debe tener más de  300 palabras \\n{contenido}\"'\n",
    "human_prompt = HumanMessagePromptTemplate.from_template(human_template)"
   ]
  },
  {
   "cell_type": "code",
   "execution_count": 109,
   "id": "b86024d4-b052-48da-8ba6-e3f7f4a4e381",
   "metadata": {},
   "outputs": [],
   "source": [
    "nueva_solicitud = chat_prompt.format_prompt(contenido = documento_completo).to_messages()"
   ]
  },
  {
   "cell_type": "code",
   "execution_count": 110,
   "id": "d20ffc08-f1b4-49fb-925c-b06029baa358",
   "metadata": {},
   "outputs": [],
   "source": [
    "resultado = chat.invoke(nueva_solicitud)\n"
   ]
  },
  {
   "cell_type": "code",
   "execution_count": 111,
   "id": "02050803-8a4d-4761-9c10-98c15956d9d8",
   "metadata": {},
   "outputs": [
    {
     "data": {
      "text/plain": [
       "'El informe \"TechnoVision 2025\" de Capgemini presenta 5 tendencias tecnológicas que habrá que seguir en el próximo año:\\n\\n1. **Biología de ingeniería**: esta tecnología está en proceso de escalado y se espera que alcance la madurez y sea comercialmente viable en 2030.\\n2. **Informática cuántica**: se espera que la computación cuántica sea una de las 3 tecnologías principales dentro del espacio de \"Computación y Redes\" que tendrá un mayor impacto en 2025, con el 55% de los expertos expectando que se aplique en alguna forma en 2025.\\n3. **Inteligencia Artificial General (AGI)**: se espera que la AGI alcance la madurez y sea comercialmente viable en 2030, con el 60% de los expertos creyendo que alcanzará esta etapa en los próximos 5 años.\\n4. **Cadenas de suministro de nueva generación**: se espera que las cadenas de suministro impulsadas por tecnologías sean la principal tendencia en la industria y la ingeniería en 2025, con el 37% de los expertos creyendo que serán esenciales para controlar la totalidad de las cadenas de suministro en todo el planeta.\\n5. **Energía nuclear**: se espera que la energía nuclear sea una prioridad importante en 2025, con el objetivo de satisfacer la demanda creciente de energía limpia y fiable.\\n\\nAdemás, el informe destaca las siguientes tendencias tecnológicas emergentes:\\n\\n* Inteligencia artificial para mejorar la toma de decisiones\\n* Tecnologías de realidad virtual y aumentada\\n* Internet de objetos (IoT) y conectividad con redes terrestres por satélite\\n* Blockchain y criptomonedas\\n* Innovaciones en el sector salud\\n\\nEl informe \"TechnoVision 2025\" es una guía integral para ayudar a los líderes a tomar decisiones de transformación empresarial impulsadas por la tecnología, y ofrece consejos y recomendaciones para aprovechar las oportunidades de crecimiento y competitividad que se presentan en el mercado.'"
      ]
     },
     "execution_count": 111,
     "metadata": {},
     "output_type": "execute_result"
    }
   ],
   "source": [
    "resultado.content"
   ]
  },
  {
   "cell_type": "code",
   "execution_count": 116,
   "id": "83521a6c-048d-43bf-9e92-ae301a831588",
   "metadata": {},
   "outputs": [
    {
     "data": {
      "text/plain": [
       "291"
      ]
     },
     "execution_count": 116,
     "metadata": {},
     "output_type": "execute_result"
    }
   ],
   "source": [
    "# Contemos las palabras\n",
    "\n",
    "len(resultado.content.split())"
   ]
  }
 ],
 "metadata": {
  "kernelspec": {
   "display_name": "Python (lang-env)",
   "language": "python",
   "name": "lang-env"
  },
  "language_info": {
   "codemirror_mode": {
    "name": "ipython",
    "version": 3
   },
   "file_extension": ".py",
   "mimetype": "text/x-python",
   "name": "python",
   "nbconvert_exporter": "python",
   "pygments_lexer": "ipython3",
   "version": "3.11.13"
  }
 },
 "nbformat": 4,
 "nbformat_minor": 5
}
