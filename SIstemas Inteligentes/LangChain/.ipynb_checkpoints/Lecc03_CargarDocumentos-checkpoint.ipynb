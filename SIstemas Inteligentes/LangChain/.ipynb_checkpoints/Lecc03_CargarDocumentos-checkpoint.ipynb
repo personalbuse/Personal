{
 "cells": [
  {
   "cell_type": "markdown",
   "id": "d3507970-8c99-4105-8517-f592d489d8bb",
   "metadata": {},
   "source": [
    "# Cargadores de documentos en LangChain"
   ]
  },
  {
   "cell_type": "markdown",
   "id": "b339af67-da92-42ad-babb-492be9cfbb0a",
   "metadata": {},
   "source": [
    "\n",
    "LangChain incluye cargadores integrados que permiten leer archivos y convertirlos rápidamente en objetos del tipo `Document`, listos para su procesamiento dentro del flujo de trabajo de la biblioteca.\n",
    "\n",
    "### Objeto `Document` en LangChain\n",
    "\n",
    "El objeto `Document` es una estructura fundamental en LangChain que representa una unidad de texto junto con sus metadatos asociados. \n",
    "\n",
    "- **Contenido principal (`page_content`)**: Texto o información que se desea procesar o analizar.\n",
    "- **Metadatos (`metadata`)**: Información adicional contextual que puede incluir el origen del documento, número de página, etiquetas, etc.\n",
    "\n",
    "Este diseño facilita la manipulación y el seguimiento de fragmentos de texto en flujos de trabajo con modelos de lenguaje, permitiendo almacenar tanto el contenido como datos relevantes que mejoran la gestión y el análisis.\n",
    "\n",
    "---\n",
    "\n",
    "\n",
    "### Características de los cargadores\n",
    "- Permiten cargar documentos desde múltiples formatos como PDF, HTML, TXT, entre otros.\n",
    "- Transforman el contenido en una estructura uniforme que LangChain puede utilizar directamente.\n",
    "\n",
    "### Dependencias externas\n",
    "Muchos cargadores requieren bibliotecas adicionales. Por ejemplo:\n",
    "\n",
    "- Para archivos PDF, se necesita la biblioteca `pypdf`.\n",
    "- Para archivos HTML, se requiere `beautifulsoup4`.\n",
    "\n",
    "Es importante asegurarse de instalar las bibliotecas necesarias antes de usar cada cargador. Si una dependencia falta, LangChain mostrará un mensaje indicando cuál debes instalar.\n",
    "\n",
    "### Documentación oficial\n",
    "Puedes consultar la lista completa de cargadores disponibles en la siguiente dirección:\n",
    "\n",
    "https://python.langchain.com/v0.2/docs/integrations/document_loaders/\n"
   ]
  },
  {
   "cell_type": "markdown",
   "id": "1c92e322-1638-4388-b055-2e478ecadc31",
   "metadata": {},
   "source": [
    "Nota: Es posible que se deba instalar alguna libreria\n",
    "Instalar la librería de langChain Community:\n",
    "- En cmd: pip install langchain-community"
   ]
  },
  {
   "cell_type": "markdown",
   "id": "b60736ea-f33a-40bd-85e8-b795bbe271cc",
   "metadata": {},
   "source": [
    "## Carga de datos CSV"
   ]
  },
  {
   "cell_type": "markdown",
   "id": "0f302613-a08f-42fe-ae1b-a747c52859a5",
   "metadata": {},
   "source": [
    "\n",
    "CSVLoader es un cargador de documentos en LangChain que permite leer archivos .csv y convertir cada fila (o el archivo completo) en uno o varios objetos Document.\n",
    "\n",
    "#### Características clave:\n",
    "- Lee archivos CSV delimitados por comas u otros caracteres.\n",
    "- Por defecto, cada fila del CSV se convierte en un documento independiente.\n",
    "- Puedes configurar qué columna usar como contenido principal (page_content_column) y cuáles como metadatos.\n",
    "- Útil para datos tabulares: reportes, logs, registros estructurados.\n",
    "\n",
    "El `CSVLoader` de LangChain facilita la integración directa de archivos CSV en flujos de trabajo con modelos de lenguaje, ya que convierte automáticamente cada fila en un documento estructurado con contenido principal y metadatos, lo que simplifica la manipulación, búsqueda y análisis de datos tabulares. Esto permite aprovechar de manera eficiente la información contenida en CSVs para tareas de procesamiento de lenguaje natural, evitando la necesidad de preprocesamientos complejos y garantizando una compatibilidad óptima con las herramientas y componentes del ecosistema LangChain."
   ]
  },
  {
   "cell_type": "code",
   "execution_count": null,
   "id": "2d53d370-20bf-4777-8d26-92b1fa35f0d7",
   "metadata": {},
   "outputs": [],
   "source": [
    "# pip install langchain-community en una terminal. \n",
    "\n",
    "from langchain.document_loaders import CSVLoader"
   ]
  },
  {
   "cell_type": "code",
   "execution_count": null,
   "id": "5b5b050c-701c-46ba-9e0b-272ecfb3e627",
   "metadata": {},
   "outputs": [],
   "source": [
    "# cargamos un fichero CSV\n",
    "\n",
    "loader = CSVLoader(\n",
    "    file_path=\"Datos/Datos_Empleados.csv\",\n",
    "    encoding='utf-8',  # probar con 'latin-1' si se ven caracteres raros\n",
    "    )\n"
   ]
  },
  {
   "cell_type": "code",
   "execution_count": null,
   "id": "07a3b441-140b-4a85-9d7f-7f6c7b6924cc",
   "metadata": {},
   "outputs": [],
   "source": [
    "# Se crea el objeto \"data\" con los datos desde el cargador \"loader\"\n",
    "\n",
    "data = loader.load()"
   ]
  },
  {
   "cell_type": "code",
   "execution_count": null,
   "id": "d4978be3-3e6f-4d93-a0dd-1d9a42eec1b1",
   "metadata": {},
   "outputs": [],
   "source": [
    " print(data) # vemos que se ha cargado un documento por cada fila donde el campo page_content contiene los datos"
   ]
  },
  {
   "cell_type": "code",
   "execution_count": null,
   "id": "ce7a5136-56af-4657-8b24-d586c8aa63c7",
   "metadata": {},
   "outputs": [],
   "source": [
    "type(data)"
   ]
  },
  {
   "cell_type": "code",
   "execution_count": null,
   "id": "33c68856-3f94-448d-a4b9-18a4bbf87500",
   "metadata": {},
   "outputs": [],
   "source": [
    "len(data)"
   ]
  },
  {
   "cell_type": "code",
   "execution_count": null,
   "id": "72d8949b-9c75-4b44-b095-12e20d6889bd",
   "metadata": {},
   "outputs": [],
   "source": [
    "data[0]"
   ]
  },
  {
   "cell_type": "code",
   "execution_count": null,
   "id": "dd707a3b-5d5c-4ec8-9689-afec5649745b",
   "metadata": {},
   "outputs": [],
   "source": [
    "data[1]"
   ]
  },
  {
   "cell_type": "code",
   "execution_count": null,
   "id": "fbd7ffc6-13aa-484b-ae07-51d552533eb2",
   "metadata": {},
   "outputs": [],
   "source": [
    "print(data[3].page_content)"
   ]
  },
  {
   "cell_type": "code",
   "execution_count": null,
   "id": "aa79ff49-9509-4058-9996-279b5023e119",
   "metadata": {},
   "outputs": [],
   "source": [
    "# imprimir estructuras complejas en forma organizada\n",
    "from pprint import pprint\n",
    "\n",
    "n = 3 # visualizar los tres primeros documentos (filas)\n",
    "for doc in data[:n]:\n",
    "    pprint({\n",
    "        \"page_content\": doc.page_content,\n",
    "        \"metadata\": doc.metadata\n",
    "    })\n"
   ]
  },
  {
   "cell_type": "markdown",
   "id": "0ceb3631-62ba-4733-bb19-b897bac7ecfc",
   "metadata": {},
   "source": [
    "## Cargador de datos HTML"
   ]
  },
  {
   "cell_type": "code",
   "execution_count": null,
   "id": "388dfb17-ce02-4ccf-ba74-e14abed29e26",
   "metadata": {},
   "outputs": [],
   "source": [
    "# pip install beautifulsoup4\n",
    "# pip install lxml  # Parser de respaldo\n",
    "\n",
    "from langchain.document_loaders import BSHTMLLoader "
   ]
  },
  {
   "cell_type": "code",
   "execution_count": null,
   "id": "2c9b4777-a775-46fd-86ae-11dfb699b3d4",
   "metadata": {},
   "outputs": [],
   "source": [
    "loader = BSHTMLLoader('Datos/IngenieriaSistemasUP.html')\n"
   ]
  },
  {
   "cell_type": "code",
   "execution_count": null,
   "id": "3a0c7558-da44-4b54-bb74-83d9a4548950",
   "metadata": {},
   "outputs": [],
   "source": [
    "data = loader.load()"
   ]
  },
  {
   "cell_type": "code",
   "execution_count": null,
   "id": "4548ad55-8022-4f92-9da6-013569988d98",
   "metadata": {},
   "outputs": [],
   "source": [
    "len(data)"
   ]
  },
  {
   "cell_type": "code",
   "execution_count": null,
   "id": "0f76e990-7cee-4c57-b368-71d8be6cd745",
   "metadata": {},
   "outputs": [],
   "source": [
    "print(data[0].page_content)"
   ]
  },
  {
   "cell_type": "code",
   "execution_count": null,
   "id": "0992c39e-55be-41bd-b81d-d762d9b33ac7",
   "metadata": {},
   "outputs": [],
   "source": [
    "#print(data[0].page_content)\n",
    "print(data[0].metadata)"
   ]
  },
  {
   "cell_type": "markdown",
   "id": "92042f04-6890-4243-9f49-66a0091fff1a",
   "metadata": {},
   "source": [
    "## Cargar contenidos de una URL en linea"
   ]
  },
  {
   "cell_type": "code",
   "execution_count": null,
   "id": "6dafafb3-f0ff-4e1b-a3d1-ac6f060e9982",
   "metadata": {},
   "outputs": [],
   "source": [
    "from langchain_community.document_loaders import WebBaseLoader\n",
    "\n",
    "#loader = WebBaseLoader(\"https://www.unipamplona.edu.co\")\n",
    "\n",
    "# opcionar para simular el browser de conexion\n",
    "\n",
    "loader = WebBaseLoader(\n",
    "    web_paths=[\"https://www.unipamplona.edu.co\"],\n",
    "    header_template={\"User-Agent\": \"Mozilla/5.0 (compatible; MyBot/1.0)\"}\n",
    ")\n",
    "\n",
    "data = loader.load()\n"
   ]
  },
  {
   "cell_type": "code",
   "execution_count": null,
   "id": "dcf497bd-edd2-423a-b6e3-4d6df286751e",
   "metadata": {},
   "outputs": [],
   "source": [
    "print(data[0].metadata)"
   ]
  },
  {
   "cell_type": "code",
   "execution_count": null,
   "id": "57030ba4-a4be-42a8-baa3-4c258a6f4a93",
   "metadata": {},
   "outputs": [],
   "source": [
    "#print(data[0].page_content)"
   ]
  },
  {
   "cell_type": "markdown",
   "id": "27e9376d-af3b-4279-807f-8a77ab736ade",
   "metadata": {},
   "source": [
    "## Carga de datos en PDF"
   ]
  },
  {
   "cell_type": "code",
   "execution_count": null,
   "id": "ecc68095-0505-41dc-99c7-b3360192c884",
   "metadata": {},
   "outputs": [],
   "source": [
    "# pip install pypdf en una terminal\n",
    "\n",
    "from langchain.document_loaders import PyPDFLoader "
   ]
  },
  {
   "cell_type": "code",
   "execution_count": null,
   "id": "7320c5a1-776a-460b-ab87-7ad2d77f90ea",
   "metadata": {},
   "outputs": [],
   "source": [
    "loader = PyPDFLoader('Datos/TendenciasTecnologicas2025.pdf')"
   ]
  },
  {
   "cell_type": "code",
   "execution_count": null,
   "id": "aa470547-8dc7-4474-9e34-998bf8db0a00",
   "metadata": {},
   "outputs": [],
   "source": [
    "# Una paguna un documento\n",
    "pages = loader.load()\n",
    "\n",
    "# opcional: Divide de acuerdo al parámetro CharacterTextSplitter\n",
    "#from langchain.text_splitter import CharacterTextSplitter\n",
    "#from langchain_community.document_loaders import TextLoader\n",
    "\n",
    "#splitter = CharacterTextSplitter(chunk_size=500, chunk_overlap=50, separator=\" \")\n",
    "#pages = loader.load_and_split(text_splitter=splitter)\n"
   ]
  },
  {
   "cell_type": "code",
   "execution_count": null,
   "id": "ee1b19ba-e239-473d-98d3-65788534fc7d",
   "metadata": {},
   "outputs": [],
   "source": [
    "type(pages)"
   ]
  },
  {
   "cell_type": "code",
   "execution_count": null,
   "id": "f4ac3d2d-f650-40cf-a2ca-f87fe801055c",
   "metadata": {},
   "outputs": [],
   "source": [
    "len(pages)"
   ]
  },
  {
   "cell_type": "code",
   "execution_count": null,
   "id": "3ad7819a-3abe-4cb8-a15f-87daf9d9d346",
   "metadata": {},
   "outputs": [],
   "source": [
    "pages[0].metadata"
   ]
  },
  {
   "cell_type": "code",
   "execution_count": null,
   "id": "01384fd4-5e4c-41b5-94d0-913119625639",
   "metadata": {
    "scrolled": true
   },
   "outputs": [],
   "source": [
    "print(pages[0].page_content)"
   ]
  },
  {
   "cell_type": "markdown",
   "id": "50b1ecfe-e4f8-4bfb-bbfc-787b68f53ff7",
   "metadata": {},
   "source": [
    "## Caso de uso: Resumir PDF's"
   ]
  },
  {
   "cell_type": "markdown",
   "id": "7b982428-706e-49ac-983a-77661c760a51",
   "metadata": {},
   "source": [
    "### Importar librerías e instancia de modelos de chat"
   ]
  },
  {
   "cell_type": "code",
   "execution_count": null,
   "id": "06d704b2-e0a5-48d0-b692-9a8ccb83087a",
   "metadata": {},
   "outputs": [],
   "source": [
    "from langchain.prompts import (PromptTemplate, \n",
    "                                SystemMessagePromptTemplate, \n",
    "                                ChatPromptTemplate, \n",
    "                                HumanMessagePromptTemplate)"
   ]
  },
  {
   "cell_type": "markdown",
   "id": "367e7f46-7c93-4a77-88dd-59e74a43f089",
   "metadata": {},
   "source": [
    "### Cargamos el modelo, en este caso de Ollama, puede modificarse según su preferencia"
   ]
  },
  {
   "cell_type": "code",
   "execution_count": null,
   "id": "efb4cc62-f36b-4362-8ec1-2718367b5867",
   "metadata": {},
   "outputs": [],
   "source": [
    "# importamos las clases para manejar conversaciones con modelos de Ollama\n",
    "from langchain_ollama.chat_models import ChatOllama\n",
    "\n",
    "### Instaciamos un chat con uno de los modelos: llama3.2:3b, mistral:latest, gema3:4b, o los que se hayan instalado en Ollama\n",
    "\n",
    "#chat = ChatOllama(model=\"llama3.2:3b\")\n",
    "#chat = ChatOllama(model=\"mistral:latest\")\n",
    "chat = ChatOllama(model=\"gemma3:4b\")\n"
   ]
  },
  {
   "cell_type": "code",
   "execution_count": null,
   "id": "2db204d6-87ed-4d17-95ad-110000ed94e9",
   "metadata": {},
   "outputs": [],
   "source": [
    "contenido_pdf = pages[0].page_content\n",
    "contenido_pdf"
   ]
  },
  {
   "cell_type": "code",
   "execution_count": null,
   "id": "38b1f2c3-18c4-403b-bb5e-cc83b0f2ab24",
   "metadata": {},
   "outputs": [],
   "source": [
    "human_template = '\"Necesito que hagas un resumen del siguiente texto en 500 caracteres: \\n{contenido}\"'\n",
    "human_prompt = HumanMessagePromptTemplate.from_template(human_template)"
   ]
  },
  {
   "cell_type": "code",
   "execution_count": null,
   "id": "09839923-3aee-45d9-8249-8e70b49f1da7",
   "metadata": {},
   "outputs": [],
   "source": [
    "chat_prompt = ChatPromptTemplate.from_messages([human_prompt])\n",
    "#chat_prompt.format_prompt(contenido = contenido_pdf)"
   ]
  },
  {
   "cell_type": "code",
   "execution_count": null,
   "id": "f4d77d5d-f93b-4ff7-8027-2935645fd08b",
   "metadata": {},
   "outputs": [],
   "source": [
    "solicitud = chat_prompt.format_prompt(contenido = contenido_pdf).to_messages()"
   ]
  },
  {
   "cell_type": "code",
   "execution_count": null,
   "id": "bb0709ad-7831-468c-ae16-c9e1efbe6d37",
   "metadata": {},
   "outputs": [],
   "source": [
    "#solicitud"
   ]
  },
  {
   "cell_type": "code",
   "execution_count": null,
   "id": "7fc61e4e-4dbb-4cef-be01-5ce52af263d0",
   "metadata": {},
   "outputs": [],
   "source": [
    "result = chat.invoke(solicitud)"
   ]
  },
  {
   "cell_type": "code",
   "execution_count": null,
   "id": "382f0f42-eda0-4a41-bbd0-c2211756402f",
   "metadata": {},
   "outputs": [],
   "source": [
    "print(result.content)"
   ]
  },
  {
   "cell_type": "markdown",
   "id": "618ed210-279f-4f89-a459-4da3df6877c5",
   "metadata": {},
   "source": [
    "### Resumen del documento completo"
   ]
  },
  {
   "cell_type": "markdown",
   "id": "af792ab8-0093-4de8-a6c3-256a1b15c554",
   "metadata": {},
   "source": [
    "- Si queremos resumir el documento completo, Creamos un string concatendando el contenido de todas las páginas:"
   ]
  },
  {
   "cell_type": "code",
   "execution_count": null,
   "id": "f1e42334-fd06-4921-898c-aee67ad94ebc",
   "metadata": {
    "scrolled": true
   },
   "outputs": [],
   "source": [
    "\n",
    "documento_completo = \"\"\n",
    "for page in pages:\n",
    "    documento_completo += page.page_content\n"
   ]
  },
  {
   "cell_type": "code",
   "execution_count": null,
   "id": "6e121627-a503-45ba-ab9e-a8ff91e2a90c",
   "metadata": {},
   "outputs": [],
   "source": [
    "#print(documento_completo)"
   ]
  },
  {
   "cell_type": "code",
   "execution_count": null,
   "id": "580af215-f5d2-4804-8884-82d22c3e40fa",
   "metadata": {},
   "outputs": [],
   "source": [
    "human_template = '\"Realizar un resumen del texto dado a continuación. Importante!!: El texto generado debe tener más de  300 palabras \\n{contenido}\"'\n",
    "human_prompt = HumanMessagePromptTemplate.from_template(human_template)"
   ]
  },
  {
   "cell_type": "code",
   "execution_count": null,
   "id": "b86024d4-b052-48da-8ba6-e3f7f4a4e381",
   "metadata": {},
   "outputs": [],
   "source": [
    "nueva_solicitud = chat_prompt.format_prompt(contenido = documento_completo).to_messages()"
   ]
  },
  {
   "cell_type": "code",
   "execution_count": null,
   "id": "d20ffc08-f1b4-49fb-925c-b06029baa358",
   "metadata": {},
   "outputs": [],
   "source": [
    "resultado = chat.invoke(nueva_solicitud)\n"
   ]
  },
  {
   "cell_type": "code",
   "execution_count": null,
   "id": "02050803-8a4d-4761-9c10-98c15956d9d8",
   "metadata": {},
   "outputs": [],
   "source": [
    "print(resultado.content)"
   ]
  },
  {
   "cell_type": "code",
   "execution_count": null,
   "id": "83521a6c-048d-43bf-9e92-ae301a831588",
   "metadata": {},
   "outputs": [],
   "source": [
    "# Contemos las palabras\n",
    "\n",
    "len(resultado.content.split())"
   ]
  },
  {
   "cell_type": "code",
   "execution_count": null,
   "id": "23a56d16-0199-4f49-bf2e-b37e0f3719d9",
   "metadata": {},
   "outputs": [],
   "source": []
  }
 ],
 "metadata": {
  "kernelspec": {
   "display_name": "Python (lang-env)",
   "language": "python",
   "name": "lang-env"
  },
  "language_info": {
   "codemirror_mode": {
    "name": "ipython",
    "version": 3
   },
   "file_extension": ".py",
   "mimetype": "text/x-python",
   "name": "python",
   "nbconvert_exporter": "python",
   "pygments_lexer": "ipython3",
   "version": "3.11.13"
  }
 },
 "nbformat": 4,
 "nbformat_minor": 5
}
