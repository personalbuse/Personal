{
 "cells": [
  {
   "cell_type": "code",
   "execution_count": 7,
   "id": "c53be3ab-5257-4f32-a71a-bd52b35c6e06",
   "metadata": {},
   "outputs": [
    {
     "name": "stdout",
     "output_type": "stream",
     "text": [
      "1.0\n"
     ]
    }
   ],
   "source": [
    "x = 10;\n",
    "s = 20;\n",
    "p = (x/s)*2;\n",
    "print(p);"
   ]
  },
  {
   "cell_type": "code",
   "execution_count": null,
   "id": "7c970c0f-aad1-4061-9e38-5669b9f8815c",
   "metadata": {},
   "outputs": [],
   "source": []
  },
  {
   "cell_type": "code",
   "execution_count": null,
   "id": "41e6f2e0-0f8e-4e68-bd97-15c14e5267fb",
   "metadata": {},
   "outputs": [],
   "source": []
  },
  {
   "cell_type": "code",
   "execution_count": null,
   "id": "11aa88ce-e221-4355-8942-7bd69cdd6bb7",
   "metadata": {},
   "outputs": [],
   "source": []
  }
 ],
 "metadata": {
  "kernelspec": {
   "display_name": "Python 3 (ipykernel)",
   "language": "python",
   "name": "python3"
  },
  "language_info": {
   "codemirror_mode": {
    "name": "ipython",
    "version": 3
   },
   "file_extension": ".py",
   "mimetype": "text/x-python",
   "name": "python",
   "nbconvert_exporter": "python",
   "pygments_lexer": "ipython3",
   "version": "3.12.11"
  }
 },
 "nbformat": 4,
 "nbformat_minor": 5
}
